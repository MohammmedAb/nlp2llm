{
 "cells": [
  {
   "cell_type": "code",
   "execution_count": 1,
   "metadata": {},
   "outputs": [],
   "source": [
    "import torch\n",
    "import torch.nn as nn\n",
    "from torch.utils.data import Dataset, DataLoader\n",
    "from torch.optim import lr_scheduler\n",
    "\n",
    "import nltk\n",
    "from nltk.corpus import stopwords\n",
    "from nltk.tokenize import word_tokenize\n",
    "\n",
    "import random\n",
    "\n",
    "from collections import deque\n",
    "import matplotlib.pyplot as plt\n",
    "\n",
    "import json"
   ]
  },
  {
   "cell_type": "markdown",
   "metadata": {},
   "source": [
    "# Word2Vec Implementation\n",
    "We will implement the Word2Vec model using the CBOW (Continuous Bag of Words) architecture. "
   ]
  },
  {
   "cell_type": "code",
   "execution_count": 2,
   "metadata": {},
   "outputs": [
    {
     "name": "stderr",
     "output_type": "stream",
     "text": [
      "[nltk_data] Downloading package punkt to\n",
      "[nltk_data]     C:\\Users\\Mohammed\\AppData\\Roaming\\nltk_data...\n",
      "[nltk_data]   Package punkt is already up-to-date!\n",
      "[nltk_data] Downloading package stopwords to\n",
      "[nltk_data]     C:\\Users\\Mohammed\\AppData\\Roaming\\nltk_data...\n",
      "[nltk_data]   Package stopwords is already up-to-date!\n"
     ]
    },
    {
     "data": {
      "text/plain": [
       "True"
      ]
     },
     "execution_count": 2,
     "metadata": {},
     "output_type": "execute_result"
    }
   ],
   "source": [
    "nltk.download('punkt') # for tokenization\n",
    "nltk.download('stopwords') # for stopwords"
   ]
  },
  {
   "cell_type": "code",
   "execution_count": 3,
   "metadata": {},
   "outputs": [],
   "source": [
    "file_path = 'small_corpus.txt'\n",
    "with open(file_path, 'r', encoding='utf-8') as file:\n",
    "    text = file.read()"
   ]
  },
  {
   "cell_type": "markdown",
   "metadata": {},
   "source": [
    "## Preprocessing: Generating Training Data (Small Corpus)"
   ]
  },
  {
   "cell_type": "code",
   "execution_count": 4,
   "metadata": {},
   "outputs": [],
   "source": [
    "def extract_unique_words(text):\n",
    "    \n",
    "    text = text.lower() \n",
    "    words = word_tokenize(text) # tokenization\n",
    "\n",
    "    words = [word for word in words if word.isalpha()] # remove punctuation, list of just words\n",
    "\n",
    "    print(f'Number of words: {len(words)}')\n",
    "\n",
    "    unique_words = sorted(set(words))\n",
    "    print(f'Number of unique words: {len(unique_words)}')\n",
    "\n",
    "    return unique_words"
   ]
  },
  {
   "cell_type": "code",
   "execution_count": 5,
   "metadata": {},
   "outputs": [
    {
     "name": "stdout",
     "output_type": "stream",
     "text": [
      "Number of words: 210000\n",
      "Number of unique words: 20\n"
     ]
    }
   ],
   "source": [
    "unique_words = extract_unique_words(text)"
   ]
  },
  {
   "cell_type": "markdown",
   "metadata": {},
   "source": [
    "**Sliding Window Approach**:   \n",
    "We will use a sliding window approach to generate the training data. The window size is a hyperparameter that we can tune. The window size is the number of words to the left and right of the target word.  \n",
    "\n",
    "![CBOW](https://nathanrooy.github.io/posts/2018-03-22/word2vec-from-scratch-with-python-and-numpy/text-example.png)"
   ]
  },
  {
   "cell_type": "code",
   "execution_count": 6,
   "metadata": {},
   "outputs": [],
   "source": [
    "def generate_cbows(text, window_size):\n",
    "\n",
    "    text = text.lower()\n",
    "    words = word_tokenize(text)\n",
    "\n",
    "    words = [word for word in words if word.isalpha()]\n",
    "\n",
    "    stop_words = set(stopwords.words('english'))\n",
    "    words = [word for word in words if word not in stop_words]\n",
    "\n",
    "    # create CBOW pairs: (context, target) \n",
    "    cbows = []\n",
    "    for i, target_word in enumerate(words):\n",
    "        context_words = words[max(0, i - window_size):i] + words[i + 1 : i + window_size + 1]\n",
    "        if len(context_words) == 2 * window_size:\n",
    "            cbows.append((context_words, target_word))\n",
    "    \n",
    "    return cbows"
   ]
  },
  {
   "cell_type": "code",
   "execution_count": 7,
   "metadata": {},
   "outputs": [
    {
     "name": "stdout",
     "output_type": "stream",
     "text": [
      "Context words: ['pet', 'house', 'dog', 'play', 'animal', 'sleep'], Target word: cat\n",
      "Context words: ['house', 'dog', 'cat', 'animal', 'sleep', 'pet'], Target word: play\n",
      "Context words: ['dog', 'cat', 'play', 'sleep', 'pet', 'animal'], Target word: animal\n"
     ]
    }
   ],
   "source": [
    "cbows = generate_cbows(text, window_size=3)\n",
    "\n",
    "for context_words, target_word in cbows[:3]:\n",
    "    print(f'Context words: {context_words}, Target word: {target_word}')"
   ]
  },
  {
   "cell_type": "code",
   "execution_count": 8,
   "metadata": {},
   "outputs": [
    {
     "data": {
      "text/plain": [
       "209994"
      ]
     },
     "execution_count": 8,
     "metadata": {},
     "output_type": "execute_result"
    }
   ],
   "source": [
    "len(cbows)"
   ]
  },
  {
   "cell_type": "markdown",
   "metadata": {},
   "source": [
    "### One-Hot Encoding\n",
    "We will use one-hot encoding so we can represent the words as vectors and use them as input to the neural network."
   ]
  },
  {
   "cell_type": "code",
   "execution_count": 9,
   "metadata": {},
   "outputs": [],
   "source": [
    "def one_hot_encode(word, unique_words):\n",
    "    encoding = [1 if word == w else 0 for w in unique_words]\n",
    "    return torch.tensor(encoding, dtype=torch.float32)"
   ]
  },
  {
   "cell_type": "code",
   "execution_count": 10,
   "metadata": {},
   "outputs": [
    {
     "data": {
      "text/plain": [
       "tensor([0., 0., 0., 0., 0., 0., 0., 0., 0., 0., 0., 0., 0., 0., 0., 0., 1., 0.,\n",
       "        0., 0.])"
      ]
     },
     "execution_count": 10,
     "metadata": {},
     "output_type": "execute_result"
    }
   ],
   "source": [
    "# Create one-hot encodings for all unique words\n",
    "one_hot_encodings = {word: one_hot_encode(word, unique_words) for word in unique_words}\n",
    "one_hot_encodings['play']"
   ]
  },
  {
   "cell_type": "code",
   "execution_count": 11,
   "metadata": {},
   "outputs": [],
   "source": [
    "# Convert CBOW pairs to one-hot encodings (vector pairs)\n",
    "cbow_vector_paris = [([one_hot_encodings[word] for word in context_words], one_hot_encodings[target_word]) for context_words, target_word in cbows]"
   ]
  },
  {
   "cell_type": "code",
   "execution_count": 12,
   "metadata": {},
   "outputs": [
    {
     "data": {
      "text/plain": [
       "[tensor([0., 0., 0., 0., 0., 0., 0., 0., 0., 0., 0., 0., 0., 0., 0., 1., 0., 0.,\n",
       "         0., 0.]),\n",
       " tensor([0., 0., 0., 0., 0., 0., 0., 0., 0., 0., 0., 1., 0., 0., 0., 0., 0., 0.,\n",
       "         0., 0.]),\n",
       " tensor([0., 0., 0., 0., 0., 0., 1., 0., 0., 0., 0., 0., 0., 0., 0., 0., 0., 0.,\n",
       "         0., 0.]),\n",
       " tensor([0., 0., 0., 0., 0., 0., 0., 0., 0., 0., 0., 0., 0., 0., 0., 0., 1., 0.,\n",
       "         0., 0.]),\n",
       " tensor([1., 0., 0., 0., 0., 0., 0., 0., 0., 0., 0., 0., 0., 0., 0., 0., 0., 0.,\n",
       "         0., 0.]),\n",
       " tensor([0., 0., 0., 0., 0., 0., 0., 0., 0., 0., 0., 0., 0., 0., 0., 0., 0., 0.,\n",
       "         0., 1.])]"
      ]
     },
     "execution_count": 12,
     "metadata": {},
     "output_type": "execute_result"
    }
   ],
   "source": [
    "cbow_vector_paris[0][0] # context words"
   ]
  },
  {
   "cell_type": "code",
   "execution_count": 13,
   "metadata": {},
   "outputs": [
    {
     "data": {
      "text/plain": [
       "tensor([0., 0., 0., 1., 0., 0., 0., 0., 0., 0., 0., 0., 0., 0., 0., 0., 0., 0.,\n",
       "        0., 0.])"
      ]
     },
     "execution_count": 13,
     "metadata": {},
     "output_type": "execute_result"
    }
   ],
   "source": [
    "cbow_vector_paris[0][1] # target word"
   ]
  },
  {
   "cell_type": "code",
   "execution_count": 15,
   "metadata": {},
   "outputs": [],
   "source": [
    "# Sum the context vectors to a single context vector\n",
    "cbow_vector_paris = [(torch.sum(torch.stack(context_vectors), dim=0), target_vector) for context_vectors, target_vector in cbow_vector_paris]"
   ]
  },
  {
   "cell_type": "markdown",
   "metadata": {},
   "source": [
    "We see that there is one input vector which is the sum of the input context words, and one output vector for the center word."
   ]
  },
  {
   "cell_type": "code",
   "execution_count": 16,
   "metadata": {},
   "outputs": [
    {
     "data": {
      "text/plain": [
       "(tensor([1., 0., 0., 0., 0., 0., 1., 0., 0., 0., 0., 1., 0., 0., 0., 1., 1., 0.,\n",
       "         0., 1.]),\n",
       " tensor([0., 0., 0., 1., 0., 0., 0., 0., 0., 0., 0., 0., 0., 0., 0., 0., 0., 0.,\n",
       "         0., 0.]))"
      ]
     },
     "execution_count": 16,
     "metadata": {},
     "output_type": "execute_result"
    }
   ],
   "source": [
    "cbow_vector_paris[0]"
   ]
  },
  {
   "cell_type": "markdown",
   "metadata": {},
   "source": [
    "## Converting dataset to PyTorch Dataset "
   ]
  },
  {
   "cell_type": "code",
   "execution_count": 30,
   "metadata": {},
   "outputs": [],
   "source": [
    "class CustomDataset(Dataset):\n",
    "    def __init__(self, data):\n",
    "        self.inputs = [item[0] for item in data]\n",
    "        self.outputs = [item[1] for item in data]\n",
    "\n",
    "    def __len__(self):\n",
    "        return len(self.inputs)\n",
    "\n",
    "    def __getitem__(self, idx):\n",
    "        input_sample = self.inputs[idx]\n",
    "        output_sample = self.outputs[idx]\n",
    "        return input_sample,output_sample\n"
   ]
  },
  {
   "cell_type": "code",
   "execution_count": 42,
   "metadata": {},
   "outputs": [],
   "source": [
    "# Shuffle pairs before training\n",
    "cbow_vector_paris = random.sample(cbow_vector_paris, len(cbow_vector_paris))\n",
    "\n",
    "split_index = int(len(cbow_vector_paris)*0.90)\n",
    "\n",
    "train_dataset = CustomDataset(cbow_vector_paris[:split_index])\n",
    "test_dataset = CustomDataset(cbow_vector_paris[split_index:])\n",
    "\n",
    "batch_size = 64\n",
    "\n",
    "# Create DataLoader for training and test sets\n",
    "train_dataloader = DataLoader(train_dataset, batch_size=batch_size, shuffle=True)\n",
    "validation_dataloader = DataLoader(test_dataset, batch_size=batch_size, shuffle=False)"
   ]
  },
  {
   "cell_type": "markdown",
   "metadata": {},
   "source": [
    "## Naive Implementation of Word2Vec Model\n",
    "The model represents a simple two-layer neural network.\n",
    "- The first layer is learnable weights initialized randomly  ```W1```: projects the input tensor into a lower-dimensional space **(word embeddings)**. \n",
    "- The second layer is learnable weights initialized randomly ```W2```: projects the word embeddings back into the vocabulary space.\n",
    "- The forward pass of the module performs matrix multiplications between the input tensor and the learnable parameters."
   ]
  },
  {
   "cell_type": "code",
   "execution_count": 43,
   "metadata": {},
   "outputs": [],
   "source": [
    "class NaiveWord2Vec(nn.Module):\n",
    "\n",
    "    def __init__(self, VOCAB_SIZE, VECTOR_DIM) -> None:\n",
    "        super().__init__()\n",
    "\n",
    "        self.vocav_size = VOCAB_SIZE\n",
    "        self.vecotr_dim = VECTOR_DIM\n",
    "        # Learnable parameters initialized with random values\n",
    "        self.W1 = nn.Parameter(data=torch.randn(self.vocav_size, self.vecotr_dim, requires_grad=True))\n",
    "        self.W2 = nn.Parameter(data=torch.randn(self.vecotr_dim, self.vocav_size, requires_grad=True))\n",
    "\n",
    "    def forward(self, X) -> torch.tensor:\n",
    "        X = X @ self.W1\n",
    "        X = X @ self.W2\n",
    "\n",
    "        return X\n"
   ]
  },
  {
   "cell_type": "code",
   "execution_count": 44,
   "metadata": {},
   "outputs": [],
   "source": [
    "VOCAB_SIZE = len(unique_words)\n",
    "VECTOR_DIM = 2"
   ]
  },
  {
   "cell_type": "markdown",
   "metadata": {},
   "source": [
    "## Training the model"
   ]
  },
  {
   "cell_type": "code",
   "execution_count": 54,
   "metadata": {},
   "outputs": [
    {
     "name": "stdout",
     "output_type": "stream",
     "text": [
      "NaiveWord2Vec()\n"
     ]
    }
   ],
   "source": [
    "model = NaiveWord2Vec(VOCAB_SIZE, VECTOR_DIM)\n",
    "print(model)"
   ]
  },
  {
   "cell_type": "code",
   "execution_count": 56,
   "metadata": {},
   "outputs": [],
   "source": [
    "def train_model(model, train_dataloader, validation_dataloader, epochs, learning_rate, verbose=False):\n",
    "\n",
    "    # Create the loss function\n",
    "    loss_fn = nn.CrossEntropyLoss()\n",
    "    # Create the optimizer object\n",
    "    optimizer = torch.optim.Adam(params=model.parameters(), lr=learning_rate)\n",
    "\n",
    "    # Log the loss values\n",
    "    train_set_loss_log = []\n",
    "    validation_set_loss_log = []\n",
    "\n",
    "    for epoch in range(epochs):\n",
    "        if verbose: print(\"Epoch: \", epoch)\n",
    "        # Training mode on\n",
    "        model.train()\n",
    "        total_train_loss = 0.0\n",
    "        num_train_batches = 0\n",
    "\n",
    "        for inputs_batch, outputs_batch in train_dataloader:\n",
    "\n",
    "            y_train_logits = model(inputs_batch)\n",
    "            train_loss = loss_fn(y_train_logits, outputs_batch)\n",
    "            \n",
    "            optimizer.zero_grad()\n",
    "            train_loss.backward()\n",
    "            optimizer.step()\n",
    "\n",
    "            total_train_loss += train_loss.item()\n",
    "            num_train_batches += 1            \n",
    "\n",
    "        # Calculate average training loss for the epoch\n",
    "        average_train_loss = total_train_loss / num_train_batches\n",
    "        train_set_loss_log.append(average_train_loss)\n",
    "        \n",
    "        # Eval mode on\n",
    "        model.eval()            \n",
    "        total_validation_loss = 0.0\n",
    "        num_validation_batches = 0\n",
    "\n",
    "        with torch.inference_mode():\n",
    "            for inputs_batch, outputs_batch in validation_dataloader:\n",
    "                # Evaluate the validation loss\n",
    "                y_val_logits = model(inputs_batch)\n",
    "                validation_loss = loss_fn(y_val_logits, outputs_batch)\n",
    "\n",
    "                total_validation_loss += validation_loss.item()\n",
    "                num_validation_batches += 1\n",
    "        \n",
    "        # Calculate average validation loss for the epoch\n",
    "        average_validation_loss = total_validation_loss / num_validation_batches\n",
    "        validation_set_loss_log.append(average_validation_loss) \n",
    "\n",
    "        if verbose: print(\"Train Loss: \", average_train_loss, \"|||\", \"Validation Loss: \", average_validation_loss)\n",
    "        \n",
    "\n",
    "    return model, train_set_loss_log, validation_set_loss_log"
   ]
  },
  {
   "cell_type": "code",
   "execution_count": 57,
   "metadata": {},
   "outputs": [
    {
     "name": "stdout",
     "output_type": "stream",
     "text": [
      "Epoch:  0\n",
      "Train Loss:  2.003845022107268 ||| Validation Loss:  1.861006408476902\n",
      "Epoch:  1\n",
      "Train Loss:  1.8565948856143266 ||| Validation Loss:  1.860681776580115\n",
      "Epoch:  2\n",
      "Train Loss:  1.8539896212725036 ||| Validation Loss:  1.8592312495396854\n"
     ]
    }
   ],
   "source": [
    "model, train_set_loss_log, validation_set_loss_log = train_model(model, train_dataloader, validation_dataloader, \n",
    "                                                                 epochs=3, learning_rate=0.01, verbose=True)"
   ]
  },
  {
   "cell_type": "code",
   "execution_count": 58,
   "metadata": {},
   "outputs": [
    {
     "data": {
      "image/png": "[encoded data removed]",
      "text/plain": [
       "<Figure size 640x480 with 1 Axes>"
      ]
     },
     "metadata": {},
     "output_type": "display_data"
    }
   ],
   "source": [
    "plt.plot(train_set_loss_log, color='red', label='train_loss')\n",
    "plt.plot(validation_set_loss_log, color='blue', label='validation_loss')\n",
    "\n",
    "plt.title(\"Loss During Training\")\n",
    "plt.xlabel(\"Epoch\")\n",
    "plt.ylabel(\"Cross Entropy\")\n",
    "plt.legend()\n",
    "plt.show()"
   ]
  },
  {
   "cell_type": "code",
   "execution_count": 59,
   "metadata": {},
   "outputs": [],
   "source": [
    "# Word Vectors\n",
    "params = list(model.parameters())\n",
    "word_vectors = params[0].detach()"
   ]
  },
  {
   "cell_type": "code",
   "execution_count": 60,
   "metadata": {},
   "outputs": [],
   "source": [
    "# Create a dictionary with the same order mapping\n",
    "word_dict = {word: vector for word, vector in zip(unique_words, word_vectors)}"
   ]
  },
  {
   "cell_type": "code",
   "execution_count": 61,
   "metadata": {},
   "outputs": [],
   "source": [
    "def cosine_similarity(v1, v2):\n",
    "    return (v1 @ v2) / (torch.norm(v1) * torch.norm(v2))\n",
    "\n",
    "def most_similar(word, word_dict, top_k=5):\n",
    "    if word not in word_dict:\n",
    "        raise ValueError(f\"{word} not found in the word dictionary.\")\n",
    "\n",
    "    query_vector = word_dict[word]\n",
    "\n",
    "    # Calculate cosine similarity with all other words in the dictionary\n",
    "    similarities = {}\n",
    "    for other_word, other_vector in word_dict.items():\n",
    "        if other_word != word:\n",
    "            similarity = cosine_similarity(query_vector, other_vector)\n",
    "            similarities[other_word] = similarity\n",
    "\n",
    "    # Sort the words by similarity in descending order\n",
    "    sorted_similarities = sorted(similarities.items(), key=lambda x: x[1], reverse=True)\n",
    "\n",
    "    # Get the top-k most similar words\n",
    "    top_similar_words = sorted_similarities[:top_k]\n",
    "\n",
    "    return top_similar_words"
   ]
  },
  {
   "cell_type": "code",
   "execution_count": 62,
   "metadata": {},
   "outputs": [
    {
     "data": {
      "text/plain": [
       "{'animal': tensor([-0.3216,  0.5989]),\n",
       " 'boy': tensor([-1.1329, -0.9479]),\n",
       " 'castle': tensor([0.2576, 0.1293]),\n",
       " 'cat': tensor([-0.3319,  0.6218]),\n",
       " 'country': tensor([ 0.1386, -0.1768]),\n",
       " 'crown': tensor([ 2.3884, -2.0013]),\n",
       " 'dog': tensor([-1.7478,  2.9096]),\n",
       " 'empire': tensor([0.2867, 0.0163]),\n",
       " 'family': tensor([-0.6358, -0.4170]),\n",
       " 'father': tensor([-1.3877, -1.1143]),\n",
       " 'girl': tensor([-0.6624, -0.4719]),\n",
       " 'house': tensor([1.1165, 0.0342]),\n",
       " 'king': tensor([3.5899, 1.5832]),\n",
       " 'marriage': tensor([-0.8822, -0.6472]),\n",
       " 'mother': tensor([-0.7549, -0.6359]),\n",
       " 'pet': tensor([-0.3940,  0.6312]),\n",
       " 'play': tensor([-0.3549,  0.6791]),\n",
       " 'queen': tensor([ 0.2568, -0.1286]),\n",
       " 'rule': tensor([ 0.0908, -0.1196]),\n",
       " 'sleep': tensor([-0.3988,  0.6568])}"
      ]
     },
     "execution_count": 62,
     "metadata": {},
     "output_type": "execute_result"
    }
   ],
   "source": [
    "word_dict"
   ]
  },
  {
   "cell_type": "code",
   "execution_count": 63,
   "metadata": {},
   "outputs": [
    {
     "data": {
      "text/plain": [
       "tensor([-1.7478,  2.9096])"
      ]
     },
     "execution_count": 63,
     "metadata": {},
     "output_type": "execute_result"
    }
   ],
   "source": [
    "word_dict['dog']"
   ]
  },
  {
   "cell_type": "code",
   "execution_count": 64,
   "metadata": {},
   "outputs": [
    {
     "data": {
      "text/plain": [
       "[('sleep', tensor(1.0000)),\n",
       " ('pet', tensor(0.9999)),\n",
       " ('animal', tensor(0.9988)),\n",
       " ('cat', tensor(0.9987)),\n",
       " ('play', tensor(0.9982))]"
      ]
     },
     "execution_count": 64,
     "metadata": {},
     "output_type": "execute_result"
    }
   ],
   "source": [
    "most_similar('dog', word_dict)"
   ]
  },
  {
   "cell_type": "code",
   "execution_count": 65,
   "metadata": {},
   "outputs": [
    {
     "data": {
      "text/plain": [
       "[('crown', tensor(0.9729)),\n",
       " ('country', tensor(0.9040)),\n",
       " ('rule', tensor(0.8974)),\n",
       " ('house', tensor(0.8800)),\n",
       " ('empire', tensor(0.8673))]"
      ]
     },
     "execution_count": 65,
     "metadata": {},
     "output_type": "execute_result"
    }
   ],
   "source": [
    "most_similar('queen', word_dict)"
   ]
  },
  {
   "cell_type": "code",
   "execution_count": 67,
   "metadata": {},
   "outputs": [
    {
     "data": {
      "text/plain": [
       "tensor(0.9997)"
      ]
     },
     "execution_count": 67,
     "metadata": {},
     "output_type": "execute_result"
    }
   ],
   "source": [
    "cosine_similarity(word_dict['father'], word_dict['mother'])"
   ]
  },
  {
   "cell_type": "code",
   "execution_count": 66,
   "metadata": {},
   "outputs": [
    {
     "data": {
      "image/png": "[encoded data removed]",
      "text/plain": [
       "<Figure size 1000x800 with 1 Axes>"
      ]
     },
     "metadata": {},
     "output_type": "display_data"
    }
   ],
   "source": [
    "x_coords, y_coords = zip(*[word_dict[word].numpy() for word in list(word_dict.keys())])\n",
    "\n",
    "plt.figure(figsize=(10, 8))\n",
    "plt.scatter(x_coords, y_coords, marker='o', color='blue')\n",
    "\n",
    "for i, word in enumerate(list(word_dict.keys())):\n",
    "    plt.annotate(word, (x_coords[i], y_coords[i]), textcoords=\"offset points\", xytext=(0, 5), ha='center')\n",
    "\n",
    "plt.title('Word Embeddings')\n",
    "plt.xlabel('Dimension 1')\n",
    "plt.ylabel('Dimension 2')\n",
    "plt.xlim(-2, 2)\n",
    "plt.ylim(-2, 2)\n",
    "plt.grid(True)\n",
    "plt.show()"
   ]
  }
 ],
 "metadata": {
  "kernelspec": {
   "display_name": "base",
   "language": "python",
   "name": "python3"
  },
  "language_info": {
   "codemirror_mode": {
    "name": "ipython",
    "version": 3
   },
   "file_extension": ".py",
   "mimetype": "text/x-python",
   "name": "python",
   "nbconvert_exporter": "python",
   "pygments_lexer": "ipython3",
   "version": "3.9.19"
  }
 },
 "nbformat": 4,
 "nbformat_minor": 2
}
