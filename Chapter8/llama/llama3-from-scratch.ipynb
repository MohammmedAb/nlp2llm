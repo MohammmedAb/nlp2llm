{
 "cells": [
  {
   "cell_type": "code",
   "execution_count": 2,
   "metadata": {},
   "outputs": [],
   "source": [
    "from pathlib import Path\n",
    "import tiktoken\n",
    "from tiktoken.load import load_tiktoken_bpe\n",
    "import torch\n",
    "import json\n",
    "import matplotlib.pyplot as plt"
   ]
  },
  {
   "cell_type": "code",
   "execution_count": 3,
   "metadata": {},
   "outputs": [
    {
     "name": "stdout",
     "output_type": "stream",
     "text": [
      "[PosixPath('Chapter8/llama/Meta-Llama-3-8B/checklist.chk'), PosixPath('Chapter8/llama/Meta-Llama-3-8B/consolidated.00.pth'), PosixPath('Chapter8/llama/Meta-Llama-3-8B/params.json'), PosixPath('Chapter8/llama/Meta-Llama-3-8B/tokenizer.model')]\n"
     ]
    }
   ],
   "source": [
    "files = Path('Chapter8/llama/Meta-Llama-3-8B').glob('*')\n",
    "files = list(files)\n",
    "print(files)"
   ]
  },
  {
   "cell_type": "code",
   "execution_count": 4,
   "metadata": {},
   "outputs": [
    {
     "data": {
      "text/plain": [
       "'Hello, world!'"
      ]
     },
     "execution_count": 4,
     "metadata": {},
     "output_type": "execute_result"
    }
   ],
   "source": [
    "tokenizer_path = \"Chapter8/llama/Meta-Llama-3-8B/tokenizer.model\"\n",
    "special_tokens = [\n",
    "            \"<|begin_of_text|>\",\n",
    "            \"<|end_of_text|>\",\n",
    "            \"<|reserved_special_token_0|>\",\n",
    "            \"<|reserved_special_token_1|>\",\n",
    "            \"<|reserved_special_token_2|>\",\n",
    "            \"<|reserved_special_token_3|>\",\n",
    "            \"<|start_header_id|>\",\n",
    "            \"<|end_header_id|>\",\n",
    "            \"<|reserved_special_token_4|>\",\n",
    "            \"<|eot_id|>\",  # end of turn\n",
    "        ] + [f\"<|reserved_special_token_{i}|>\" for i in range(5, 256 - 5)]\n",
    "mergeable_ranks = load_tiktoken_bpe(tokenizer_path)\n",
    "tokenizer = tiktoken.Encoding(\n",
    "    name=Path(tokenizer_path).name,\n",
    "    pat_str=r\"(?i:'s|'t|'re|'ve|'m|'ll|'d)|[^\\r\\n\\p{L}\\p{N}]?\\p{L}+|\\p{N}{1,3}| ?[^\\s\\p{L}\\p{N}]+[\\r\\n]*|\\s*[\\r\\n]+|\\s+(?!\\S)|\\s+\",\n",
    "    mergeable_ranks=mergeable_ranks,\n",
    "    special_tokens={token: len(mergeable_ranks) + i for i, token in enumerate(special_tokens)},\n",
    ")\n",
    "\n",
    "tokenizer.decode(tokenizer.encode(\"Hello, world!\"))"
   ]
  },
  {
   "cell_type": "code",
   "execution_count": 5,
   "metadata": {},
   "outputs": [],
   "source": [
    "model = torch.load(\"Chapter8/llama/Meta-Llama-3-8B/consolidated.00.pth\")"
   ]
  },
  {
   "cell_type": "code",
   "execution_count": 6,
   "metadata": {},
   "outputs": [
    {
     "name": "stdout",
     "output_type": "stream",
     "text": [
      "[\n",
      "    \"tok_embeddings.weight\",\n",
      "    \"layers.0.attention.wq.weight\",\n",
      "    \"layers.0.attention.wk.weight\",\n",
      "    \"layers.0.attention.wv.weight\",\n",
      "    \"layers.0.attention.wo.weight\",\n",
      "    \"layers.0.feed_forward.w1.weight\",\n",
      "    \"layers.0.feed_forward.w3.weight\",\n",
      "    \"layers.0.feed_forward.w2.weight\",\n",
      "    \"layers.0.attention_norm.weight\",\n",
      "    \"layers.0.ffn_norm.weight\",\n",
      "    \"layers.1.attention.wq.weight\",\n",
      "    \"layers.1.attention.wk.weight\",\n",
      "    \"layers.1.attention.wv.weight\",\n",
      "    \"layers.1.attention.wo.weight\",\n",
      "    \"layers.1.feed_forward.w1.weight\",\n",
      "    \"layers.1.feed_forward.w3.weight\",\n",
      "    \"layers.1.feed_forward.w2.weight\",\n",
      "    \"layers.1.attention_norm.weight\",\n",
      "    \"layers.1.ffn_norm.weight\",\n",
      "    \"layers.2.attention.wq.weight\",\n",
      "    \"layers.2.attention.wk.weight\",\n",
      "    \"layers.2.attention.wv.weight\",\n",
      "    \"layers.2.attention.wo.weight\",\n",
      "    \"layers.2.feed_forward.w1.weight\",\n",
      "    \"layers.2.feed_forward.w3.weight\",\n",
      "    \"layers.2.feed_forward.w2.weight\",\n",
      "    \"layers.2.attention_norm.weight\",\n",
      "    \"layers.2.ffn_norm.weight\",\n",
      "    \"layers.3.attention.wq.weight\",\n",
      "    \"layers.3.attention.wk.weight\",\n",
      "    \"layers.3.attention.wv.weight\",\n",
      "    \"layers.3.attention.wo.weight\",\n",
      "    \"layers.3.feed_forward.w1.weight\",\n",
      "    \"layers.3.feed_forward.w3.weight\",\n",
      "    \"layers.3.feed_forward.w2.weight\",\n",
      "    \"layers.3.attention_norm.weight\",\n",
      "    \"layers.3.ffn_norm.weight\",\n",
      "    \"layers.4.attention.wq.weight\",\n",
      "    \"layers.4.attention.wk.weight\",\n",
      "    \"layers.4.attention.wv.weight\",\n",
      "    \"layers.4.attention.wo.weight\",\n",
      "    \"layers.4.feed_forward.w1.weight\",\n",
      "    \"layers.4.feed_forward.w3.weight\",\n",
      "    \"layers.4.feed_forward.w2.weight\",\n",
      "    \"layers.4.attention_norm.weight\",\n",
      "    \"layers.4.ffn_norm.weight\",\n",
      "    \"layers.5.attention.wq.weight\",\n",
      "    \"layers.5.attention.wk.weight\",\n",
      "    \"layers.5.attention.wv.weight\",\n",
      "    \"layers.5.attention.wo.weight\",\n",
      "    \"layers.5.feed_forward.w1.weight\",\n",
      "    \"layers.5.feed_forward.w3.weight\",\n",
      "    \"layers.5.feed_forward.w2.weight\",\n",
      "    \"layers.5.attention_norm.weight\",\n",
      "    \"layers.5.ffn_norm.weight\",\n",
      "    \"layers.6.attention.wq.weight\",\n",
      "    \"layers.6.attention.wk.weight\",\n",
      "    \"layers.6.attention.wv.weight\",\n",
      "    \"layers.6.attention.wo.weight\",\n",
      "    \"layers.6.feed_forward.w1.weight\",\n",
      "    \"layers.6.feed_forward.w3.weight\",\n",
      "    \"layers.6.feed_forward.w2.weight\",\n",
      "    \"layers.6.attention_norm.weight\",\n",
      "    \"layers.6.ffn_norm.weight\",\n",
      "    \"layers.7.attention.wq.weight\",\n",
      "    \"layers.7.attention.wk.weight\",\n",
      "    \"layers.7.attention.wv.weight\",\n",
      "    \"layers.7.attention.wo.weight\",\n",
      "    \"layers.7.feed_forward.w1.weight\",\n",
      "    \"layers.7.feed_forward.w3.weight\",\n",
      "    \"layers.7.feed_forward.w2.weight\",\n",
      "    \"layers.7.attention_norm.weight\",\n",
      "    \"layers.7.ffn_norm.weight\",\n",
      "    \"layers.8.attention.wq.weight\",\n",
      "    \"layers.8.attention.wk.weight\",\n",
      "    \"layers.8.attention.wv.weight\",\n",
      "    \"layers.8.attention.wo.weight\",\n",
      "    \"layers.8.feed_forward.w1.weight\",\n",
      "    \"layers.8.feed_forward.w3.weight\",\n",
      "    \"layers.8.feed_forward.w2.weight\",\n",
      "    \"layers.8.attention_norm.weight\",\n",
      "    \"layers.8.ffn_norm.weight\",\n",
      "    \"layers.9.attention.wq.weight\",\n",
      "    \"layers.9.attention.wk.weight\",\n",
      "    \"layers.9.attention.wv.weight\",\n",
      "    \"layers.9.attention.wo.weight\",\n",
      "    \"layers.9.feed_forward.w1.weight\",\n",
      "    \"layers.9.feed_forward.w3.weight\",\n",
      "    \"layers.9.feed_forward.w2.weight\",\n",
      "    \"layers.9.attention_norm.weight\",\n",
      "    \"layers.9.ffn_norm.weight\",\n",
      "    \"layers.10.attention.wq.weight\",\n",
      "    \"layers.10.attention.wk.weight\",\n",
      "    \"layers.10.attention.wv.weight\",\n",
      "    \"layers.10.attention.wo.weight\",\n",
      "    \"layers.10.feed_forward.w1.weight\",\n",
      "    \"layers.10.feed_forward.w3.weight\",\n",
      "    \"layers.10.feed_forward.w2.weight\",\n",
      "    \"layers.10.attention_norm.weight\",\n",
      "    \"layers.10.ffn_norm.weight\",\n",
      "    \"layers.11.attention.wq.weight\",\n",
      "    \"layers.11.attention.wk.weight\",\n",
      "    \"layers.11.attention.wv.weight\",\n",
      "    \"layers.11.attention.wo.weight\",\n",
      "    \"layers.11.feed_forward.w1.weight\",\n",
      "    \"layers.11.feed_forward.w3.weight\",\n",
      "    \"layers.11.feed_forward.w2.weight\",\n",
      "    \"layers.11.attention_norm.weight\",\n",
      "    \"layers.11.ffn_norm.weight\",\n",
      "    \"layers.12.attention.wq.weight\",\n",
      "    \"layers.12.attention.wk.weight\",\n",
      "    \"layers.12.attention.wv.weight\",\n",
      "    \"layers.12.attention.wo.weight\",\n",
      "    \"layers.12.feed_forward.w1.weight\",\n",
      "    \"layers.12.feed_forward.w3.weight\",\n",
      "    \"layers.12.feed_forward.w2.weight\",\n",
      "    \"layers.12.attention_norm.weight\",\n",
      "    \"layers.12.ffn_norm.weight\",\n",
      "    \"layers.13.attention.wq.weight\",\n",
      "    \"layers.13.attention.wk.weight\",\n",
      "    \"layers.13.attention.wv.weight\",\n",
      "    \"layers.13.attention.wo.weight\",\n",
      "    \"layers.13.feed_forward.w1.weight\",\n",
      "    \"layers.13.feed_forward.w3.weight\",\n",
      "    \"layers.13.feed_forward.w2.weight\",\n",
      "    \"layers.13.attention_norm.weight\",\n",
      "    \"layers.13.ffn_norm.weight\",\n",
      "    \"layers.14.attention.wq.weight\",\n",
      "    \"layers.14.attention.wk.weight\",\n",
      "    \"layers.14.attention.wv.weight\",\n",
      "    \"layers.14.attention.wo.weight\",\n",
      "    \"layers.14.feed_forward.w1.weight\",\n",
      "    \"layers.14.feed_forward.w3.weight\",\n",
      "    \"layers.14.feed_forward.w2.weight\",\n",
      "    \"layers.14.attention_norm.weight\",\n",
      "    \"layers.14.ffn_norm.weight\",\n",
      "    \"layers.15.attention.wq.weight\",\n",
      "    \"layers.15.attention.wk.weight\",\n",
      "    \"layers.15.attention.wv.weight\",\n",
      "    \"layers.15.attention.wo.weight\",\n",
      "    \"layers.15.feed_forward.w1.weight\",\n",
      "    \"layers.15.feed_forward.w3.weight\",\n",
      "    \"layers.15.feed_forward.w2.weight\",\n",
      "    \"layers.15.attention_norm.weight\",\n",
      "    \"layers.15.ffn_norm.weight\",\n",
      "    \"layers.16.attention.wq.weight\",\n",
      "    \"layers.16.attention.wk.weight\",\n",
      "    \"layers.16.attention.wv.weight\",\n",
      "    \"layers.16.attention.wo.weight\",\n",
      "    \"layers.16.feed_forward.w1.weight\",\n",
      "    \"layers.16.feed_forward.w3.weight\",\n",
      "    \"layers.16.feed_forward.w2.weight\",\n",
      "    \"layers.16.attention_norm.weight\",\n",
      "    \"layers.16.ffn_norm.weight\",\n",
      "    \"layers.17.attention.wq.weight\",\n",
      "    \"layers.17.attention.wk.weight\",\n",
      "    \"layers.17.attention.wv.weight\",\n",
      "    \"layers.17.attention.wo.weight\",\n",
      "    \"layers.17.feed_forward.w1.weight\",\n",
      "    \"layers.17.feed_forward.w3.weight\",\n",
      "    \"layers.17.feed_forward.w2.weight\",\n",
      "    \"layers.17.attention_norm.weight\",\n",
      "    \"layers.17.ffn_norm.weight\",\n",
      "    \"layers.18.attention.wq.weight\",\n",
      "    \"layers.18.attention.wk.weight\",\n",
      "    \"layers.18.attention.wv.weight\",\n",
      "    \"layers.18.attention.wo.weight\",\n",
      "    \"layers.18.feed_forward.w1.weight\",\n",
      "    \"layers.18.feed_forward.w3.weight\",\n",
      "    \"layers.18.feed_forward.w2.weight\",\n",
      "    \"layers.18.attention_norm.weight\",\n",
      "    \"layers.18.ffn_norm.weight\",\n",
      "    \"layers.19.attention.wq.weight\",\n",
      "    \"layers.19.attention.wk.weight\",\n",
      "    \"layers.19.attention.wv.weight\",\n",
      "    \"layers.19.attention.wo.weight\",\n",
      "    \"layers.19.feed_forward.w1.weight\",\n",
      "    \"layers.19.feed_forward.w3.weight\",\n",
      "    \"layers.19.feed_forward.w2.weight\",\n",
      "    \"layers.19.attention_norm.weight\",\n",
      "    \"layers.19.ffn_norm.weight\",\n",
      "    \"layers.20.attention.wq.weight\",\n",
      "    \"layers.20.attention.wk.weight\",\n",
      "    \"layers.20.attention.wv.weight\",\n",
      "    \"layers.20.attention.wo.weight\",\n",
      "    \"layers.20.feed_forward.w1.weight\",\n",
      "    \"layers.20.feed_forward.w3.weight\",\n",
      "    \"layers.20.feed_forward.w2.weight\",\n",
      "    \"layers.20.attention_norm.weight\",\n",
      "    \"layers.20.ffn_norm.weight\",\n",
      "    \"layers.21.attention.wq.weight\",\n",
      "    \"layers.21.attention.wk.weight\",\n",
      "    \"layers.21.attention.wv.weight\",\n",
      "    \"layers.21.attention.wo.weight\",\n",
      "    \"layers.21.feed_forward.w1.weight\",\n",
      "    \"layers.21.feed_forward.w3.weight\",\n",
      "    \"layers.21.feed_forward.w2.weight\",\n",
      "    \"layers.21.attention_norm.weight\",\n",
      "    \"layers.21.ffn_norm.weight\",\n",
      "    \"layers.22.attention.wq.weight\",\n",
      "    \"layers.22.attention.wk.weight\",\n",
      "    \"layers.22.attention.wv.weight\",\n",
      "    \"layers.22.attention.wo.weight\",\n",
      "    \"layers.22.feed_forward.w1.weight\",\n",
      "    \"layers.22.feed_forward.w3.weight\",\n",
      "    \"layers.22.feed_forward.w2.weight\",\n",
      "    \"layers.22.attention_norm.weight\",\n",
      "    \"layers.22.ffn_norm.weight\",\n",
      "    \"layers.23.attention.wq.weight\",\n",
      "    \"layers.23.attention.wk.weight\",\n",
      "    \"layers.23.attention.wv.weight\",\n",
      "    \"layers.23.attention.wo.weight\",\n",
      "    \"layers.23.feed_forward.w1.weight\",\n",
      "    \"layers.23.feed_forward.w3.weight\",\n",
      "    \"layers.23.feed_forward.w2.weight\",\n",
      "    \"layers.23.attention_norm.weight\",\n",
      "    \"layers.23.ffn_norm.weight\",\n",
      "    \"layers.24.attention.wq.weight\",\n",
      "    \"layers.24.attention.wk.weight\",\n",
      "    \"layers.24.attention.wv.weight\",\n",
      "    \"layers.24.attention.wo.weight\",\n",
      "    \"layers.24.feed_forward.w1.weight\",\n",
      "    \"layers.24.feed_forward.w3.weight\",\n",
      "    \"layers.24.feed_forward.w2.weight\",\n",
      "    \"layers.24.attention_norm.weight\",\n",
      "    \"layers.24.ffn_norm.weight\",\n",
      "    \"layers.25.attention.wq.weight\",\n",
      "    \"layers.25.attention.wk.weight\",\n",
      "    \"layers.25.attention.wv.weight\",\n",
      "    \"layers.25.attention.wo.weight\",\n",
      "    \"layers.25.feed_forward.w1.weight\",\n",
      "    \"layers.25.feed_forward.w3.weight\",\n",
      "    \"layers.25.feed_forward.w2.weight\",\n",
      "    \"layers.25.attention_norm.weight\",\n",
      "    \"layers.25.ffn_norm.weight\",\n",
      "    \"layers.26.attention.wq.weight\",\n",
      "    \"layers.26.attention.wk.weight\",\n",
      "    \"layers.26.attention.wv.weight\",\n",
      "    \"layers.26.attention.wo.weight\",\n",
      "    \"layers.26.feed_forward.w1.weight\",\n",
      "    \"layers.26.feed_forward.w3.weight\",\n",
      "    \"layers.26.feed_forward.w2.weight\",\n",
      "    \"layers.26.attention_norm.weight\",\n",
      "    \"layers.26.ffn_norm.weight\",\n",
      "    \"layers.27.attention.wq.weight\",\n",
      "    \"layers.27.attention.wk.weight\",\n",
      "    \"layers.27.attention.wv.weight\",\n",
      "    \"layers.27.attention.wo.weight\",\n",
      "    \"layers.27.feed_forward.w1.weight\",\n",
      "    \"layers.27.feed_forward.w3.weight\",\n",
      "    \"layers.27.feed_forward.w2.weight\",\n",
      "    \"layers.27.attention_norm.weight\",\n",
      "    \"layers.27.ffn_norm.weight\",\n",
      "    \"layers.28.attention.wq.weight\",\n",
      "    \"layers.28.attention.wk.weight\",\n",
      "    \"layers.28.attention.wv.weight\",\n",
      "    \"layers.28.attention.wo.weight\",\n",
      "    \"layers.28.feed_forward.w1.weight\",\n",
      "    \"layers.28.feed_forward.w3.weight\",\n",
      "    \"layers.28.feed_forward.w2.weight\",\n",
      "    \"layers.28.attention_norm.weight\",\n",
      "    \"layers.28.ffn_norm.weight\",\n",
      "    \"layers.29.attention.wq.weight\",\n",
      "    \"layers.29.attention.wk.weight\",\n",
      "    \"layers.29.attention.wv.weight\",\n",
      "    \"layers.29.attention.wo.weight\",\n",
      "    \"layers.29.feed_forward.w1.weight\",\n",
      "    \"layers.29.feed_forward.w3.weight\",\n",
      "    \"layers.29.feed_forward.w2.weight\",\n",
      "    \"layers.29.attention_norm.weight\",\n",
      "    \"layers.29.ffn_norm.weight\",\n",
      "    \"layers.30.attention.wq.weight\",\n",
      "    \"layers.30.attention.wk.weight\",\n",
      "    \"layers.30.attention.wv.weight\",\n",
      "    \"layers.30.attention.wo.weight\",\n",
      "    \"layers.30.feed_forward.w1.weight\",\n",
      "    \"layers.30.feed_forward.w3.weight\",\n",
      "    \"layers.30.feed_forward.w2.weight\",\n",
      "    \"layers.30.attention_norm.weight\",\n",
      "    \"layers.30.ffn_norm.weight\",\n",
      "    \"layers.31.attention.wq.weight\",\n",
      "    \"layers.31.attention.wk.weight\",\n",
      "    \"layers.31.attention.wv.weight\",\n",
      "    \"layers.31.attention.wo.weight\",\n",
      "    \"layers.31.feed_forward.w1.weight\",\n",
      "    \"layers.31.feed_forward.w3.weight\",\n",
      "    \"layers.31.feed_forward.w2.weight\",\n",
      "    \"layers.31.attention_norm.weight\",\n",
      "    \"layers.31.ffn_norm.weight\",\n",
      "    \"norm.weight\",\n",
      "    \"output.weight\"\n",
      "]\n"
     ]
    }
   ],
   "source": [
    "print(json.dumps(list(model.keys()), indent=4))"
   ]
  },
  {
   "cell_type": "code",
   "execution_count": 7,
   "metadata": {},
   "outputs": [
    {
     "data": {
      "text/plain": [
       "{'dim': 4096,\n",
       " 'n_layers': 32,\n",
       " 'n_heads': 32,\n",
       " 'n_kv_heads': 8,\n",
       " 'vocab_size': 128256,\n",
       " 'multiple_of': 1024,\n",
       " 'ffn_dim_multiplier': 1.3,\n",
       " 'norm_eps': 1e-05,\n",
       " 'rope_theta': 500000.0}"
      ]
     },
     "execution_count": 7,
     "metadata": {},
     "output_type": "execute_result"
    }
   ],
   "source": [
    "with open(\"Chapter8/llama/Meta-Llama-3-8B/params.json\", 'r') as f:\n",
    "    config = json.load(f)\n",
    "config"
   ]
  },
  {
   "cell_type": "markdown",
   "metadata": {},
   "source": [
    "# Text to Tokens"
   ]
  },
  {
   "cell_type": "code",
   "execution_count": 8,
   "metadata": {},
   "outputs": [],
   "source": [
    "dim = config['dim']\n",
    "n_layers = config['n_layers']\n",
    "n_heads = config['n_heads']\n",
    "n_kv_heads = config[\"n_kv_heads\"]\n",
    "vocab_size = config[\"vocab_size\"]\n",
    "multiple_of = config[\"multiple_of\"]\n",
    "ffn_dim_multiplier = config[\"ffn_dim_multiplier\"]\n",
    "norm_eps = config[\"norm_eps\"]\n",
    "rope_theta = torch.tensor(config[\"rope_theta\"])"
   ]
  },
  {
   "cell_type": "code",
   "execution_count": 11,
   "metadata": {},
   "outputs": [
    {
     "name": "stdout",
     "output_type": "stream",
     "text": [
      "[128000, 791, 4320, 311, 279, 17139, 3488, 315, 2324, 11, 279, 15861, 11, 323, 4395, 374, 220]\n",
      "['<|begin_of_text|>', 'The', ' answer', ' to', ' the', ' ultimate', ' question', ' of', ' life', ',', ' the', ' universe', ',', ' and', ' everything', ' is', ' ']\n"
     ]
    }
   ],
   "source": [
    "prompt = \"The answer to the ultimate question of life, the universe, and everything is \"\n",
    "tokens = [128000] + tokenizer.encode(prompt)\n",
    "print(tokens)\n",
    "tokens = torch.tensor(tokens)\n",
    "prompt_split_as_tokens = [tokenizer.decode([token.item()]) for token in tokens]\n",
    "print(prompt_split_as_tokens)"
   ]
  },
  {
   "cell_type": "code",
   "execution_count": 14,
   "metadata": {},
   "outputs": [
    {
     "data": {
      "text/plain": [
       "17"
      ]
     },
     "execution_count": 14,
     "metadata": {},
     "output_type": "execute_result"
    }
   ],
   "source": [
    "len(tokens)"
   ]
  },
  {
   "cell_type": "markdown",
   "metadata": {},
   "source": [
    "# Tokens to their embedding "
   ]
  },
  {
   "cell_type": "code",
   "execution_count": 12,
   "metadata": {},
   "outputs": [
    {
     "data": {
      "text/plain": [
       "torch.Size([17, 4096])"
      ]
     },
     "execution_count": 12,
     "metadata": {},
     "output_type": "execute_result"
    }
   ],
   "source": [
    "embedding_layer = torch.nn.Embedding(vocab_size, dim)\n",
    "embedding_layer.weight.data.copy_(model[\"tok_embeddings.weight\"])\n",
    "token_embeddings_unnormalized = embedding_layer(tokens).to(torch.bfloat16)\n",
    "token_embeddings_unnormalized.shape"
   ]
  },
  {
   "cell_type": "code",
   "execution_count": 15,
   "metadata": {},
   "outputs": [
    {
     "data": {
      "text/plain": [
       "tensor([-1.4305e-04,  1.0777e-04, -1.9646e-04,  ...,  2.0218e-04,\n",
       "         1.4842e-05,  3.0136e-04], dtype=torch.bfloat16,\n",
       "       grad_fn=<SelectBackward0>)"
      ]
     },
     "execution_count": 15,
     "metadata": {},
     "output_type": "execute_result"
    }
   ],
   "source": [
    "token_embeddings_unnormalized[0]"
   ]
  },
  {
   "cell_type": "markdown",
   "metadata": {},
   "source": [
    "## Normalize the embedding"
   ]
  },
  {
   "cell_type": "markdown",
   "metadata": {},
   "source": [
    "$$ \\bar{a}_i = \\frac{a_i}{\\text{RMS}(\\mathbf{a})}g_i, \\quad \\text{where} \\quad \\text{RMS}(\\mathbf{a}) = \\sqrt{\\frac{1}{n} \\sum_{i=1}^{n} a_i^2} $$\n",
    "\n",
    "- `tensor` or $a$ is the original input\n",
    "- `norm_weights` or $g_i$ is a learnable parameter, it's multiplied with the normalized value to scale them \n",
    "Eqation steps:\n",
    "1. compute the square of each element in the tensor\n",
    "2. compute the mean of the squared values along the last dimenstition\n",
    "3. Computes the reciprocal of the square root (equivalent to $ \\frac{1} {\\sqrt{}} $ ) + `norm_eps` (a small epsilon value) prevents division by zero\n",
    "4. `tensor` * ...: This scales the tensor elements by the reciprocal RMS\n"
   ]
  },
  {
   "cell_type": "code",
   "execution_count": 17,
   "metadata": {},
   "outputs": [],
   "source": [
    "def rms_norm(tensor, norm_weights):\n",
    "    return (tensor * torch.rsqrt(tensor.pow(2).mean(-1, keepdim=True) + norm_eps)) * norm_weights"
   ]
  },
  {
   "cell_type": "markdown",
   "metadata": {},
   "source": [
    "# Bulding the transformers blocks\n",
    "![image.png](llama-architectur.png)"
   ]
  },
  {
   "cell_type": "markdown",
   "metadata": {},
   "source": [
    "### Bulding the first layer: Normalization "
   ]
  },
  {
   "cell_type": "code",
   "execution_count": 20,
   "metadata": {},
   "outputs": [],
   "source": [
    "token_embeddings = rms_norm(token_embeddings_unnormalized, model[\"layers.0.attention_norm.weight\"])"
   ]
  },
  {
   "cell_type": "code",
   "execution_count": 22,
   "metadata": {},
   "outputs": [
    {
     "name": "stdout",
     "output_type": "stream",
     "text": [
      "tensor([-9.8419e-04,  2.8839e-03, -1.1292e-02,  ...,  2.2278e-03,\n",
      "         8.2970e-05,  1.1292e-03], dtype=torch.bfloat16,\n",
      "       grad_fn=<SelectBackward0>)\n"
     ]
    },
    {
     "data": {
      "text/plain": [
       "torch.Size([17, 4096])"
      ]
     },
     "execution_count": 22,
     "metadata": {},
     "output_type": "execute_result"
    }
   ],
   "source": [
    "print(token_embeddings[0])\n",
    "token_embeddings.shape"
   ]
  },
  {
   "cell_type": "markdown",
   "metadata": {},
   "source": [
    "### Attention implementation"
   ]
  },
  {
   "cell_type": "code",
   "execution_count": 23,
   "metadata": {},
   "outputs": [
    {
     "name": "stdout",
     "output_type": "stream",
     "text": [
      "torch.Size([4096, 4096]) torch.Size([1024, 4096]) torch.Size([1024, 4096]) torch.Size([4096, 4096])\n"
     ]
    }
   ],
   "source": [
    "print(\n",
    "    model[\"layers.0.attention.wq.weight\"].shape, # query\n",
    "    model[\"layers.0.attention.wk.weight\"].shape, # key\n",
    "    model[\"layers.0.attention.wv.weight\"].shape, # value\n",
    "    model[\"layers.0.attention.wo.weight\"].shape # output\n",
    ")"
   ]
  },
  {
   "cell_type": "markdown",
   "metadata": {},
   "source": [
    "- the authors bundled the weights of the heads togeather because its helps parallize attention head multipliastion"
   ]
  },
  {
   "cell_type": "markdown",
   "metadata": {},
   "source": [
    "#### unwrapping query\n",
    "- after unwrap the queries from multiple attention heads, the resulting shape is [32x128x4096]\n",
    "- 32 attention heads\n",
    "- 128 size of the query vector\n",
    "- 4096 is the size of the token embedding"
   ]
  },
  {
   "cell_type": "code",
   "execution_count": 24,
   "metadata": {},
   "outputs": [
    {
     "data": {
      "text/plain": [
       "torch.Size([32, 128, 4096])"
      ]
     },
     "execution_count": 24,
     "metadata": {},
     "output_type": "execute_result"
    }
   ],
   "source": [
    "q_layer0 = model['layers.0.attention.wq.weight']\n",
    "head_dim = q_layer0.shape[0] // n_heads\n",
    "q_layer0 = q_layer0.view(n_heads, head_dim, dim)\n",
    "q_layer0.shape"
   ]
  },
  {
   "cell_type": "markdown",
   "metadata": {},
   "source": [
    "#### Implenting the first head of the first layer"
   ]
  },
  {
   "cell_type": "code",
   "execution_count": 26,
   "metadata": {},
   "outputs": [
    {
     "data": {
      "text/plain": [
       "torch.Size([128, 4096])"
      ]
     },
     "execution_count": 26,
     "metadata": {},
     "output_type": "execute_result"
    }
   ],
   "source": [
    "q_layer0_head0 = q_layer0[0]\n",
    "q_layer0_head0.shape"
   ]
  },
  {
   "cell_type": "markdown",
   "metadata": {},
   "source": [
    "multiply the query weights with the token embedding to recive a query for the token\n",
    "- for each token there is a 128 length query"
   ]
  },
  {
   "cell_type": "code",
   "execution_count": 27,
   "metadata": {},
   "outputs": [
    {
     "data": {
      "text/plain": [
       "torch.Size([17, 128])"
      ]
     },
     "execution_count": 27,
     "metadata": {},
     "output_type": "execute_result"
    }
   ],
   "source": [
    "q_per_token = torch.matmul(token_embeddings, q_layer0_head0.T)\n",
    "q_per_token.shape"
   ]
  },
  {
   "cell_type": "code",
   "execution_count": 41,
   "metadata": {},
   "outputs": [
    {
     "data": {
      "text/plain": [
       "tensor(0.4980, dtype=torch.bfloat16, grad_fn=<SelectBackward0>)"
      ]
     },
     "execution_count": 41,
     "metadata": {},
     "output_type": "execute_result"
    }
   ],
   "source": [
    "# the query for \" the\" token\n",
    "q_per_token[4][0]"
   ]
  },
  {
   "cell_type": "code",
   "execution_count": 42,
   "metadata": {},
   "outputs": [
    {
     "data": {
      "text/plain": [
       "tensor(0.4980, dtype=torch.bfloat16, grad_fn=<SelectBackward0>)"
      ]
     },
     "execution_count": 42,
     "metadata": {},
     "output_type": "execute_result"
    }
   ],
   "source": [
    "# the query for another \" the\" token\n",
    "q_per_token[10][0]"
   ]
  },
  {
   "cell_type": "markdown",
   "metadata": {},
   "source": [
    "- The indivitually query vector gas no idea about the postion in the prompt\n",
    "- we want each a query vector to have a different vectors"
   ]
  },
  {
   "cell_type": "markdown",
   "metadata": {},
   "source": [
    "### Implementing Rortory Positional Embedding (RoPE)\n",
    "$f_{\\{q,k\\}}(x_m, m) = \n",
    "\\begin{pmatrix}\n",
    "\\cos m \\theta & -\\sin m \\theta \\\\\n",
    "\\sin m \\theta & \\cos m \\theta\n",
    "\\end{pmatrix}\n",
    "\\begin{pmatrix}\n",
    "W^{(11)}_{\\{q,k\\}} & W^{(12)}_{\\{q,k\\}} \\\\\n",
    "W^{(21)}_{\\{q,k\\}} & W^{(22)}_{\\{q,k\\}}\n",
    "\\end{pmatrix}\n",
    "\\begin{pmatrix}\n",
    "x_m^{(1)} \\\\\n",
    "x_m^{(2)}\n",
    "\\end{pmatrix}\n",
    "$"
   ]
  },
  {
   "cell_type": "markdown",
   "metadata": {},
   "source": [
    "- The first part is the most importent part, it rotate the vector by angle of $m \\theta$ where $m$ is the absolute position of the tokken in a sentense\n",
    "- We apply the rottent only on the query and the key\n",
    "\n",
    "This is how we gonna implement it"
   ]
  },
  {
   "cell_type": "markdown",
   "metadata": {},
   "source": [
    "$\n",
    "R_{\\Theta, m}^d x = \n",
    "\\begin{pmatrix}\n",
    "x_1 \\\\\n",
    "x_2 \\\\\n",
    "x_3 \\\\\n",
    "x_4 \\\\\n",
    "\\vdots \\\\\n",
    "x_{d-1} \\\\\n",
    "x_d\n",
    "\\end{pmatrix}\n",
    "\\otimes\n",
    "\\begin{pmatrix}\n",
    "\\cos m \\theta_1 \\\\\n",
    "\\cos m \\theta_1 \\\\\n",
    "\\cos m \\theta_2 \\\\\n",
    "\\cos m \\theta_2 \\\\\n",
    "\\vdots \\\\\n",
    "\\cos m \\theta_{d/2} \\\\\n",
    "\\cos m \\theta_{d/2}\n",
    "\\end{pmatrix}\n",
    "+\n",
    "\\begin{pmatrix}\n",
    "-x_2 \\\\\n",
    "x_1 \\\\\n",
    "-x_4 \\\\\n",
    "x_3 \\\\\n",
    "\\vdots \\\\\n",
    "-x_d \\\\\n",
    "x_{d-1}\n",
    "\\end{pmatrix}\n",
    "\\otimes\n",
    "\\begin{pmatrix}\n",
    "\\sin m \\theta_1 \\\\\n",
    "\\sin m \\theta_1 \\\\\n",
    "\\sin m \\theta_2 \\\\\n",
    "\\sin m \\theta_2 \\\\\n",
    "\\vdots \\\\\n",
    "\\sin m \\theta_{d/2} \\\\\n",
    "\\sin m \\theta_{d/2}\n",
    "\\end{pmatrix}\n",
    "$\n"
   ]
  },
  {
   "cell_type": "code",
   "execution_count": 54,
   "metadata": {},
   "outputs": [
    {
     "data": {
      "text/plain": [
       "torch.Size([17, 64, 2])"
      ]
     },
     "execution_count": 54,
     "metadata": {},
     "output_type": "execute_result"
    }
   ],
   "source": [
    "q_per_token_split_into_pairs = q_per_token.float().view(q_per_token.shape[0], -1, 2)\n",
    "q_per_token_split_into_pairs.shape"
   ]
  },
  {
   "cell_type": "code",
   "execution_count": 47,
   "metadata": {},
   "outputs": [
    {
     "data": {
      "text/plain": [
       "tensor([0.0000, 0.0156, 0.0312, 0.0469, 0.0625, 0.0781, 0.0938, 0.1094, 0.1250,\n",
       "        0.1406, 0.1562, 0.1719, 0.1875, 0.2031, 0.2188, 0.2344, 0.2500, 0.2656,\n",
       "        0.2812, 0.2969, 0.3125, 0.3281, 0.3438, 0.3594, 0.3750, 0.3906, 0.4062,\n",
       "        0.4219, 0.4375, 0.4531, 0.4688, 0.4844, 0.5000, 0.5156, 0.5312, 0.5469,\n",
       "        0.5625, 0.5781, 0.5938, 0.6094, 0.6250, 0.6406, 0.6562, 0.6719, 0.6875,\n",
       "        0.7031, 0.7188, 0.7344, 0.7500, 0.7656, 0.7812, 0.7969, 0.8125, 0.8281,\n",
       "        0.8438, 0.8594, 0.8750, 0.8906, 0.9062, 0.9219, 0.9375, 0.9531, 0.9688,\n",
       "        0.9844])"
      ]
     },
     "execution_count": 47,
     "metadata": {},
     "output_type": "execute_result"
    }
   ],
   "source": [
    "zero_to_one_split_into_64_parts = torch.tensor(range(64))/64\n",
    "zero_to_one_split_into_64_parts"
   ]
  },
  {
   "cell_type": "code",
   "execution_count": 48,
   "metadata": {},
   "outputs": [
    {
     "data": {
      "text/plain": [
       "tensor([1.0000e+00, 8.1462e-01, 6.6360e-01, 5.4058e-01, 4.4037e-01, 3.5873e-01,\n",
       "        2.9223e-01, 2.3805e-01, 1.9392e-01, 1.5797e-01, 1.2869e-01, 1.0483e-01,\n",
       "        8.5397e-02, 6.9566e-02, 5.6670e-02, 4.6164e-02, 3.7606e-02, 3.0635e-02,\n",
       "        2.4955e-02, 2.0329e-02, 1.6560e-02, 1.3490e-02, 1.0990e-02, 8.9523e-03,\n",
       "        7.2927e-03, 5.9407e-03, 4.8394e-03, 3.9423e-03, 3.2114e-03, 2.6161e-03,\n",
       "        2.1311e-03, 1.7360e-03, 1.4142e-03, 1.1520e-03, 9.3847e-04, 7.6450e-04,\n",
       "        6.2277e-04, 5.0732e-04, 4.1327e-04, 3.3666e-04, 2.7425e-04, 2.2341e-04,\n",
       "        1.8199e-04, 1.4825e-04, 1.2077e-04, 9.8381e-05, 8.0143e-05, 6.5286e-05,\n",
       "        5.3183e-05, 4.3324e-05, 3.5292e-05, 2.8750e-05, 2.3420e-05, 1.9078e-05,\n",
       "        1.5542e-05, 1.2660e-05, 1.0313e-05, 8.4015e-06, 6.8440e-06, 5.5752e-06,\n",
       "        4.5417e-06, 3.6997e-06, 3.0139e-06, 2.4551e-06])"
      ]
     },
     "execution_count": 48,
     "metadata": {},
     "output_type": "execute_result"
    }
   ],
   "source": [
    "freqs = 1.0 / (rope_theta ** zero_to_one_split_into_64_parts)\n",
    "freqs"
   ]
  },
  {
   "cell_type": "code",
   "execution_count": 49,
   "metadata": {},
   "outputs": [
    {
     "data": {
      "image/png": "[encoded data removed]",
      "text/plain": [
       "<Figure size 640x480 with 1 Axes>"
      ]
     },
     "metadata": {},
     "output_type": "display_data"
    }
   ],
   "source": [
    "freqs_for_each_token = torch.outer(torch.arange(17), freqs)\n",
    "freqs_cis = torch.polar(torch.ones_like(freqs_for_each_token), freqs_for_each_token)\n",
    "freqs_cis.shape\n",
    "\n",
    "\n",
    "value = freqs_cis[3]\n",
    "plt.figure()\n",
    "for i, element in enumerate(value[:17]):\n",
    "    plt.plot([0, element.real], [0, element.imag], color='blue', linewidth=1, label=f\"Index: {i}\")\n",
    "    plt.annotate(f\"{i}\", xy=(element.real, element.imag), color='red')\n",
    "plt.xlabel('Real')\n",
    "plt.ylabel('Imaginary')\n",
    "plt.title('Plot of one row of freqs_cis')\n",
    "plt.show()"
   ]
  },
  {
   "cell_type": "markdown",
   "metadata": {},
   "source": [
    "- now we rotate the query based on the position\n",
    "1. conver it to complex numbers\n",
    "2. then dot product"
   ]
  },
  {
   "cell_type": "code",
   "execution_count": 55,
   "metadata": {},
   "outputs": [
    {
     "data": {
      "text/plain": [
       "torch.Size([17, 64])"
      ]
     },
     "execution_count": 55,
     "metadata": {},
     "output_type": "execute_result"
    }
   ],
   "source": [
    "q_per_token_as_complex_numbers = torch.view_as_complex(q_per_token_split_into_pairs)\n",
    "q_per_token_as_complex_numbers.shape"
   ]
  },
  {
   "cell_type": "code",
   "execution_count": 56,
   "metadata": {},
   "outputs": [
    {
     "data": {
      "text/plain": [
       "torch.Size([17, 64])"
      ]
     },
     "execution_count": 56,
     "metadata": {},
     "output_type": "execute_result"
    }
   ],
   "source": [
    "q_per_token_as_complex_numbers_rotated = q_per_token_as_complex_numbers * freqs_cis\n",
    "q_per_token_as_complex_numbers_rotated.shape"
   ]
  },
  {
   "cell_type": "markdown",
   "metadata": {},
   "source": []
  },
  {
   "cell_type": "code",
   "execution_count": 57,
   "metadata": {},
   "outputs": [
    {
     "data": {
      "text/plain": [
       "torch.Size([17, 64, 2])"
      ]
     },
     "execution_count": 57,
     "metadata": {},
     "output_type": "execute_result"
    }
   ],
   "source": [
    "q_per_token_split_into_pairs_rotated = torch.view_as_real(q_per_token_as_complex_numbers_rotated)\n",
    "q_per_token_split_into_pairs_rotated.shape"
   ]
  },
  {
   "cell_type": "markdown",
   "metadata": {},
   "source": [
    "now we merged the rotated pairs"
   ]
  },
  {
   "cell_type": "code",
   "execution_count": 58,
   "metadata": {},
   "outputs": [
    {
     "data": {
      "text/plain": [
       "torch.Size([17, 128])"
      ]
     },
     "execution_count": 58,
     "metadata": {},
     "output_type": "execute_result"
    }
   ],
   "source": [
    "q_per_token_rotated = q_per_token_split_into_pairs_rotated.view(q_per_token.shape)\n",
    "q_per_token_rotated.shape"
   ]
  },
  {
   "cell_type": "markdown",
   "metadata": {},
   "source": [
    "## implementing keys "
   ]
  },
  {
   "cell_type": "code",
   "execution_count": 59,
   "metadata": {},
   "outputs": [
    {
     "data": {
      "text/plain": [
       "torch.Size([8, 128, 4096])"
      ]
     },
     "execution_count": 59,
     "metadata": {},
     "output_type": "execute_result"
    }
   ],
   "source": [
    "k_layer0 = model[\"layers.0.attention.wk.weight\"]\n",
    "k_layer0 = k_layer0.view(n_kv_heads, k_layer0.shape[0] // n_kv_heads, dim)\n",
    "k_layer0.shape"
   ]
  },
  {
   "cell_type": "code",
   "execution_count": 60,
   "metadata": {},
   "outputs": [
    {
     "data": {
      "text/plain": [
       "torch.Size([128, 4096])"
      ]
     },
     "execution_count": 60,
     "metadata": {},
     "output_type": "execute_result"
    }
   ],
   "source": [
    "k_layer0_head0 = k_layer0[0]\n",
    "k_layer0_head0.shape"
   ]
  },
  {
   "cell_type": "code",
   "execution_count": 61,
   "metadata": {},
   "outputs": [
    {
     "data": {
      "text/plain": [
       "torch.Size([17, 128])"
      ]
     },
     "execution_count": 61,
     "metadata": {},
     "output_type": "execute_result"
    }
   ],
   "source": [
    "k_per_token = torch.matmul(token_embeddings, k_layer0_head0.T)\n",
    "k_per_token.shape"
   ]
  },
  {
   "cell_type": "code",
   "execution_count": 62,
   "metadata": {},
   "outputs": [
    {
     "data": {
      "text/plain": [
       "torch.Size([17, 64, 2])"
      ]
     },
     "execution_count": 62,
     "metadata": {},
     "output_type": "execute_result"
    }
   ],
   "source": [
    "k_per_token_split_into_pairs = k_per_token.float().view(k_per_token.shape[0], -1, 2)\n",
    "k_per_token_split_into_pairs.shape"
   ]
  },
  {
   "cell_type": "code",
   "execution_count": 63,
   "metadata": {},
   "outputs": [
    {
     "data": {
      "text/plain": [
       "torch.Size([17, 64])"
      ]
     },
     "execution_count": 63,
     "metadata": {},
     "output_type": "execute_result"
    }
   ],
   "source": [
    "k_per_token_as_complex_numbers = torch.view_as_complex(k_per_token_split_into_pairs)\n",
    "k_per_token_as_complex_numbers.shape"
   ]
  },
  {
   "cell_type": "code",
   "execution_count": 64,
   "metadata": {},
   "outputs": [
    {
     "data": {
      "text/plain": [
       "torch.Size([17, 64, 2])"
      ]
     },
     "execution_count": 64,
     "metadata": {},
     "output_type": "execute_result"
    }
   ],
   "source": [
    "k_per_token_split_into_pairs_rotated = torch.view_as_real(k_per_token_as_complex_numbers * freqs_cis)\n",
    "k_per_token_split_into_pairs_rotated.shape"
   ]
  },
  {
   "cell_type": "code",
   "execution_count": 73,
   "metadata": {},
   "outputs": [
    {
     "data": {
      "text/plain": [
       "torch.Size([17, 128])"
      ]
     },
     "execution_count": 73,
     "metadata": {},
     "output_type": "execute_result"
    }
   ],
   "source": [
    "k_per_token_rotated = k_per_token_split_into_pairs_rotated.view(k_per_token.shape)\n",
    "k_per_token_rotated.shape"
   ]
  },
  {
   "cell_type": "markdown",
   "metadata": {},
   "source": [
    "## Multiply the queries and key matrices\n",
    "- Doing this will give us a score mapping each token with one another \n",
    "- the score describes how each token's query relates to the each token's key (self attention) "
   ]
  },
  {
   "cell_type": "code",
   "execution_count": 74,
   "metadata": {},
   "outputs": [
    {
     "data": {
      "text/plain": [
       "torch.Size([17, 17])"
      ]
     },
     "execution_count": 74,
     "metadata": {},
     "output_type": "execute_result"
    }
   ],
   "source": [
    "qk_per_token = torch.matmul(k_per_token_rotated, k_per_token_rotated.T)/(head_dim)**0.5\n",
    "qk_per_token.shape"
   ]
  },
  {
   "cell_type": "code",
   "execution_count": 69,
   "metadata": {},
   "outputs": [
    {
     "data": {
      "image/png": "[encoded data removed]",
      "text/plain": [
       "<Figure size 640x480 with 2 Axes>"
      ]
     },
     "metadata": {},
     "output_type": "display_data"
    }
   ],
   "source": [
    "def display_qk_heatmap(qk_per_token):\n",
    "    _, ax = plt.subplots()\n",
    "    im = ax.imshow(qk_per_token.to(float).detach(), cmap='viridis')\n",
    "    ax.set_xticks(range(len(prompt_split_as_tokens)))\n",
    "    ax.set_yticks(range(len(prompt_split_as_tokens)))\n",
    "    ax.set_xticklabels(prompt_split_as_tokens)\n",
    "    ax.set_yticklabels(prompt_split_as_tokens)\n",
    "    ax.figure.colorbar(im, ax=ax)\n",
    "    \n",
    "display_qk_heatmap(qk_per_token)"
   ]
  },
  {
   "cell_type": "code",
   "execution_count": 75,
   "metadata": {},
   "outputs": [
    {
     "data": {
      "text/plain": [
       "tensor([[0., -inf, -inf, -inf, -inf, -inf, -inf, -inf, -inf, -inf, -inf, -inf, -inf, -inf, -inf, -inf, -inf],\n",
       "        [0., 0., -inf, -inf, -inf, -inf, -inf, -inf, -inf, -inf, -inf, -inf, -inf, -inf, -inf, -inf, -inf],\n",
       "        [0., 0., 0., -inf, -inf, -inf, -inf, -inf, -inf, -inf, -inf, -inf, -inf, -inf, -inf, -inf, -inf],\n",
       "        [0., 0., 0., 0., -inf, -inf, -inf, -inf, -inf, -inf, -inf, -inf, -inf, -inf, -inf, -inf, -inf],\n",
       "        [0., 0., 0., 0., 0., -inf, -inf, -inf, -inf, -inf, -inf, -inf, -inf, -inf, -inf, -inf, -inf],\n",
       "        [0., 0., 0., 0., 0., 0., -inf, -inf, -inf, -inf, -inf, -inf, -inf, -inf, -inf, -inf, -inf],\n",
       "        [0., 0., 0., 0., 0., 0., 0., -inf, -inf, -inf, -inf, -inf, -inf, -inf, -inf, -inf, -inf],\n",
       "        [0., 0., 0., 0., 0., 0., 0., 0., -inf, -inf, -inf, -inf, -inf, -inf, -inf, -inf, -inf],\n",
       "        [0., 0., 0., 0., 0., 0., 0., 0., 0., -inf, -inf, -inf, -inf, -inf, -inf, -inf, -inf],\n",
       "        [0., 0., 0., 0., 0., 0., 0., 0., 0., 0., -inf, -inf, -inf, -inf, -inf, -inf, -inf],\n",
       "        [0., 0., 0., 0., 0., 0., 0., 0., 0., 0., 0., -inf, -inf, -inf, -inf, -inf, -inf],\n",
       "        [0., 0., 0., 0., 0., 0., 0., 0., 0., 0., 0., 0., -inf, -inf, -inf, -inf, -inf],\n",
       "        [0., 0., 0., 0., 0., 0., 0., 0., 0., 0., 0., 0., 0., -inf, -inf, -inf, -inf],\n",
       "        [0., 0., 0., 0., 0., 0., 0., 0., 0., 0., 0., 0., 0., 0., -inf, -inf, -inf],\n",
       "        [0., 0., 0., 0., 0., 0., 0., 0., 0., 0., 0., 0., 0., 0., 0., -inf, -inf],\n",
       "        [0., 0., 0., 0., 0., 0., 0., 0., 0., 0., 0., 0., 0., 0., 0., 0., -inf],\n",
       "        [0., 0., 0., 0., 0., 0., 0., 0., 0., 0., 0., 0., 0., 0., 0., 0., 0.]])"
      ]
     },
     "execution_count": 75,
     "metadata": {},
     "output_type": "execute_result"
    }
   ],
   "source": [
    "mask = torch.full((len(tokens), len(tokens)), float(\"-inf\"), device=tokens.device)\n",
    "mask = torch.triu(mask, diagonal=1)\n",
    "mask"
   ]
  },
  {
   "cell_type": "code",
   "execution_count": 76,
   "metadata": {},
   "outputs": [
    {
     "data": {
      "image/png": "[encoded data removed]",
      "text/plain": [
       "<Figure size 640x480 with 2 Axes>"
      ]
     },
     "metadata": {},
     "output_type": "display_data"
    }
   ],
   "source": [
    "qk_per_token_after_masking = qk_per_token + mask\n",
    "display_qk_heatmap(qk_per_token_after_masking)"
   ]
  },
  {
   "cell_type": "code",
   "execution_count": 77,
   "metadata": {},
   "outputs": [
    {
     "data": {
      "image/png": "[encoded data removed]",
      "text/plain": [
       "<Figure size 640x480 with 2 Axes>"
      ]
     },
     "metadata": {},
     "output_type": "display_data"
    }
   ],
   "source": [
    "qk_per_token_after_masking_after_softmax = torch.nn.functional.softmax(qk_per_token_after_masking, dim=1).to(torch.bfloat16)\n",
    "display_qk_heatmap(qk_per_token_after_masking_after_softmax)"
   ]
  },
  {
   "cell_type": "markdown",
   "metadata": {},
   "source": [
    "## Values matrix"
   ]
  },
  {
   "cell_type": "code",
   "execution_count": 78,
   "metadata": {},
   "outputs": [
    {
     "data": {
      "text/plain": [
       "torch.Size([8, 128, 4096])"
      ]
     },
     "execution_count": 78,
     "metadata": {},
     "output_type": "execute_result"
    }
   ],
   "source": [
    "v_layer0 = model[\"layers.0.attention.wv.weight\"]\n",
    "v_layer0 = v_layer0.view(n_kv_heads, v_layer0.shape[0] // n_kv_heads, dim)\n",
    "v_layer0.shape"
   ]
  },
  {
   "cell_type": "code",
   "execution_count": 79,
   "metadata": {},
   "outputs": [
    {
     "data": {
      "text/plain": [
       "torch.Size([128, 4096])"
      ]
     },
     "execution_count": 79,
     "metadata": {},
     "output_type": "execute_result"
    }
   ],
   "source": [
    "v_layer0_head0 = v_layer0[0]\n",
    "v_layer0_head0.shape"
   ]
  },
  {
   "cell_type": "code",
   "execution_count": 80,
   "metadata": {},
   "outputs": [
    {
     "data": {
      "text/plain": [
       "torch.Size([17, 128])"
      ]
     },
     "execution_count": 80,
     "metadata": {},
     "output_type": "execute_result"
    }
   ],
   "source": [
    "v_per_token = torch.matmul(token_embeddings, v_layer0_head0.T)\n",
    "v_per_token.shape"
   ]
  },
  {
   "cell_type": "markdown",
   "metadata": {},
   "source": [
    "## Loop to do the same for all the heads in the first layers"
   ]
  },
  {
   "cell_type": "code",
   "execution_count": 81,
   "metadata": {},
   "outputs": [
    {
     "data": {
      "text/plain": [
       "32"
      ]
     },
     "execution_count": 81,
     "metadata": {},
     "output_type": "execute_result"
    }
   ],
   "source": [
    "qkv_attention_store = []\n",
    "\n",
    "for head in range(n_heads):\n",
    "    q_layer0_head = q_layer0[head]\n",
    "    k_layer0_head = k_layer0[head//4] # key weights are shared across 4 heads\n",
    "    v_layer0_head = v_layer0[head//4] # value weights are shared across 4 heads\n",
    "    q_per_token = torch.matmul(token_embeddings, q_layer0_head.T)\n",
    "    k_per_token = torch.matmul(token_embeddings, k_layer0_head.T)\n",
    "    v_per_token = torch.matmul(token_embeddings, v_layer0_head.T)\n",
    "\n",
    "    q_per_token_split_into_pairs = q_per_token.float().view(q_per_token.shape[0], -1, 2)\n",
    "    q_per_token_as_complex_numbers = torch.view_as_complex(q_per_token_split_into_pairs)\n",
    "    q_per_token_split_into_pairs_rotated = torch.view_as_real(q_per_token_as_complex_numbers * freqs_cis[:len(tokens)])\n",
    "    q_per_token_rotated = q_per_token_split_into_pairs_rotated.view(q_per_token.shape)\n",
    "\n",
    "    k_per_token_split_into_pairs = k_per_token.float().view(k_per_token.shape[0], -1, 2)\n",
    "    k_per_token_as_complex_numbers = torch.view_as_complex(k_per_token_split_into_pairs)\n",
    "    k_per_token_split_into_pairs_rotated = torch.view_as_real(k_per_token_as_complex_numbers * freqs_cis[:len(tokens)])\n",
    "    k_per_token_rotated = k_per_token_split_into_pairs_rotated.view(k_per_token.shape)\n",
    "\n",
    "    qk_per_token = torch.matmul(q_per_token_rotated, k_per_token_rotated.T)/(128)**0.5\n",
    "    mask = torch.full((len(tokens), len(tokens)), float(\"-inf\"), device=tokens.device)\n",
    "    mask = torch.triu(mask, diagonal=1)\n",
    "    qk_per_token_after_masking = qk_per_token + mask\n",
    "    qk_per_token_after_masking_after_softmax = torch.nn.functional.softmax(qk_per_token_after_masking, dim=1).to(torch.bfloat16)\n",
    "    qkv_attention = torch.matmul(qk_per_token_after_masking_after_softmax, v_per_token)\n",
    "    qkv_attention = torch.matmul(qk_per_token_after_masking_after_softmax, v_per_token)\n",
    "    qkv_attention_store.append(qkv_attention)\n",
    "\n",
    "len(qkv_attention_store)"
   ]
  },
  {
   "cell_type": "markdown",
   "metadata": {},
   "source": [
    "now we mearge all attention scores into one large matrix"
   ]
  },
  {
   "cell_type": "code",
   "execution_count": 82,
   "metadata": {},
   "outputs": [
    {
     "data": {
      "text/plain": [
       "torch.Size([17, 4096])"
      ]
     },
     "execution_count": 82,
     "metadata": {},
     "output_type": "execute_result"
    }
   ],
   "source": [
    "stacked_qkv_attention = torch.cat(qkv_attention_store, dim=-1)\n",
    "stacked_qkv_attention.shape"
   ]
  },
  {
   "cell_type": "code",
   "execution_count": 83,
   "metadata": {},
   "outputs": [
    {
     "data": {
      "text/plain": [
       "torch.Size([4096, 4096])"
      ]
     },
     "execution_count": 83,
     "metadata": {},
     "output_type": "execute_result"
    }
   ],
   "source": [
    "w_layer0 = model[\"layers.0.attention.wo.weight\"]\n",
    "w_layer0.shape"
   ]
  },
  {
   "cell_type": "markdown",
   "metadata": {},
   "source": [
    "## linear layer"
   ]
  },
  {
   "cell_type": "code",
   "execution_count": 84,
   "metadata": {},
   "outputs": [
    {
     "data": {
      "text/plain": [
       "torch.Size([17, 4096])"
      ]
     },
     "execution_count": 84,
     "metadata": {},
     "output_type": "execute_result"
    }
   ],
   "source": [
    "embedding_delta = torch.matmul(stacked_qkv_attention, w_layer0.T)\n",
    "embedding_delta.shape"
   ]
  },
  {
   "cell_type": "markdown",
   "metadata": {},
   "source": [
    "now we add the original token embedding to the modefied embedding attention"
   ]
  },
  {
   "cell_type": "code",
   "execution_count": 85,
   "metadata": {},
   "outputs": [
    {
     "data": {
      "text/plain": [
       "torch.Size([17, 4096])"
      ]
     },
     "execution_count": 85,
     "metadata": {},
     "output_type": "execute_result"
    }
   ],
   "source": [
    "embedding_after_edit = token_embeddings_unnormalized + embedding_delta\n",
    "embedding_after_edit.shape"
   ]
  },
  {
   "cell_type": "markdown",
   "metadata": {},
   "source": [
    "normalize and then run a feed forward neural network"
   ]
  },
  {
   "cell_type": "code",
   "execution_count": 86,
   "metadata": {},
   "outputs": [
    {
     "data": {
      "text/plain": [
       "torch.Size([17, 4096])"
      ]
     },
     "execution_count": 86,
     "metadata": {},
     "output_type": "execute_result"
    }
   ],
   "source": [
    "embedding_after_edit_normalized = rms_norm(embedding_after_edit, model[\"layers.0.ffn_norm.weight\"])\n",
    "embedding_after_edit_normalized.shape"
   ]
  },
  {
   "cell_type": "markdown",
   "metadata": {},
   "source": [
    "#### loading the ff weights and implementing the feed forward network"
   ]
  },
  {
   "cell_type": "code",
   "execution_count": 87,
   "metadata": {},
   "outputs": [
    {
     "data": {
      "text/plain": [
       "torch.Size([17, 4096])"
      ]
     },
     "execution_count": 87,
     "metadata": {},
     "output_type": "execute_result"
    }
   ],
   "source": [
    "w1 = model[\"layers.0.feed_forward.w1.weight\"]\n",
    "w2 = model[\"layers.0.feed_forward.w2.weight\"]\n",
    "w3 = model[\"layers.0.feed_forward.w3.weight\"]\n",
    "output_after_feedforward = torch.matmul(torch.functional.F.silu(torch.matmul(embedding_after_edit_normalized, w1.T)) * torch.matmul(embedding_after_edit_normalized, w3.T), w2.T)\n",
    "output_after_feedforward.shape"
   ]
  },
  {
   "cell_type": "code",
   "execution_count": 88,
   "metadata": {},
   "outputs": [
    {
     "data": {
      "text/plain": [
       "torch.Size([17, 4096])"
      ]
     },
     "execution_count": 88,
     "metadata": {},
     "output_type": "execute_result"
    }
   ],
   "source": [
    "layer_0_embedding = embedding_after_edit+output_after_feedforward\n",
    "layer_0_embedding.shape"
   ]
  },
  {
   "cell_type": "markdown",
   "metadata": {},
   "source": [
    "## loop what we did but for the remaning layers"
   ]
  },
  {
   "cell_type": "code",
   "execution_count": 89,
   "metadata": {},
   "outputs": [],
   "source": [
    "final_embedding = token_embeddings_unnormalized\n",
    "for layer in range(n_layers):\n",
    "    qkv_attention_store = []\n",
    "    layer_embedding_norm = rms_norm(final_embedding, model[f\"layers.{layer}.attention_norm.weight\"])\n",
    "    q_layer = model[f\"layers.{layer}.attention.wq.weight\"]\n",
    "    q_layer = q_layer.view(n_heads, q_layer.shape[0] // n_heads, dim)\n",
    "    k_layer = model[f\"layers.{layer}.attention.wk.weight\"]\n",
    "    k_layer = k_layer.view(n_kv_heads, k_layer.shape[0] // n_kv_heads, dim)\n",
    "    v_layer = model[f\"layers.{layer}.attention.wv.weight\"]\n",
    "    v_layer = v_layer.view(n_kv_heads, v_layer.shape[0] // n_kv_heads, dim)\n",
    "    w_layer = model[f\"layers.{layer}.attention.wo.weight\"]\n",
    "    for head in range(n_heads):\n",
    "        q_layer_head = q_layer[head]\n",
    "        k_layer_head = k_layer[head//4]\n",
    "        v_layer_head = v_layer[head//4]\n",
    "        q_per_token = torch.matmul(layer_embedding_norm, q_layer_head.T)\n",
    "        k_per_token = torch.matmul(layer_embedding_norm, k_layer_head.T)\n",
    "        v_per_token = torch.matmul(layer_embedding_norm, v_layer_head.T)\n",
    "        q_per_token_split_into_pairs = q_per_token.float().view(q_per_token.shape[0], -1, 2)\n",
    "        q_per_token_as_complex_numbers = torch.view_as_complex(q_per_token_split_into_pairs)\n",
    "        q_per_token_split_into_pairs_rotated = torch.view_as_real(q_per_token_as_complex_numbers * freqs_cis)\n",
    "        q_per_token_rotated = q_per_token_split_into_pairs_rotated.view(q_per_token.shape)\n",
    "        k_per_token_split_into_pairs = k_per_token.float().view(k_per_token.shape[0], -1, 2)\n",
    "        k_per_token_as_complex_numbers = torch.view_as_complex(k_per_token_split_into_pairs)\n",
    "        k_per_token_split_into_pairs_rotated = torch.view_as_real(k_per_token_as_complex_numbers * freqs_cis)\n",
    "        k_per_token_rotated = k_per_token_split_into_pairs_rotated.view(k_per_token.shape)\n",
    "        qk_per_token = torch.matmul(q_per_token_rotated, k_per_token_rotated.T)/(128)**0.5\n",
    "        mask = torch.full((len(token_embeddings_unnormalized), len(token_embeddings_unnormalized)), float(\"-inf\"))\n",
    "        mask = torch.triu(mask, diagonal=1)\n",
    "        qk_per_token_after_masking = qk_per_token + mask\n",
    "        qk_per_token_after_masking_after_softmax = torch.nn.functional.softmax(qk_per_token_after_masking, dim=1).to(torch.bfloat16)\n",
    "        qkv_attention = torch.matmul(qk_per_token_after_masking_after_softmax, v_per_token)\n",
    "        qkv_attention_store.append(qkv_attention)\n",
    "\n",
    "    stacked_qkv_attention = torch.cat(qkv_attention_store, dim=-1)\n",
    "    w_layer = model[f\"layers.{layer}.attention.wo.weight\"]\n",
    "    embedding_delta = torch.matmul(stacked_qkv_attention, w_layer.T)\n",
    "    embedding_after_edit = final_embedding + embedding_delta\n",
    "    embedding_after_edit_normalized = rms_norm(embedding_after_edit, model[f\"layers.{layer}.ffn_norm.weight\"])\n",
    "    w1 = model[f\"layers.{layer}.feed_forward.w1.weight\"]\n",
    "    w2 = model[f\"layers.{layer}.feed_forward.w2.weight\"]\n",
    "    w3 = model[f\"layers.{layer}.feed_forward.w3.weight\"]\n",
    "    output_after_feedforward = torch.matmul(torch.functional.F.silu(torch.matmul(embedding_after_edit_normalized, w1.T)) * torch.matmul(embedding_after_edit_normalized, w3.T), w2.T)\n",
    "    final_embedding = embedding_after_edit+output_after_feedforward"
   ]
  },
  {
   "cell_type": "code",
   "execution_count": 90,
   "metadata": {},
   "outputs": [
    {
     "data": {
      "text/plain": [
       "torch.Size([17, 4096])"
      ]
     },
     "execution_count": 90,
     "metadata": {},
     "output_type": "execute_result"
    }
   ],
   "source": [
    "final_embedding = rms_norm(final_embedding, model[\"norm.weight\"])\n",
    "final_embedding.shape"
   ]
  },
  {
   "cell_type": "markdown",
   "metadata": {},
   "source": [
    "## Finaly: we decode the embedding to the token value"
   ]
  },
  {
   "cell_type": "code",
   "execution_count": 91,
   "metadata": {},
   "outputs": [
    {
     "data": {
      "text/plain": [
       "torch.Size([128256, 4096])"
      ]
     },
     "execution_count": 91,
     "metadata": {},
     "output_type": "execute_result"
    }
   ],
   "source": [
    "model[\"output.weight\"].shape"
   ]
  },
  {
   "cell_type": "code",
   "execution_count": 92,
   "metadata": {},
   "outputs": [
    {
     "data": {
      "text/plain": [
       "torch.Size([128256])"
      ]
     },
     "execution_count": 92,
     "metadata": {},
     "output_type": "execute_result"
    }
   ],
   "source": [
    "logits = torch.matmul(final_embedding[-1], model[\"output.weight\"].T)\n",
    "logits.shape"
   ]
  },
  {
   "cell_type": "code",
   "execution_count": 93,
   "metadata": {},
   "outputs": [
    {
     "data": {
      "text/plain": [
       "tensor(2983)"
      ]
     },
     "execution_count": 93,
     "metadata": {},
     "output_type": "execute_result"
    }
   ],
   "source": [
    "next_token = torch.argmax(logits, dim=-1)\n",
    "next_token"
   ]
  },
  {
   "cell_type": "code",
   "execution_count": 94,
   "metadata": {},
   "outputs": [
    {
     "data": {
      "text/plain": [
       "'42'"
      ]
     },
     "execution_count": 94,
     "metadata": {},
     "output_type": "execute_result"
    }
   ],
   "source": [
    "tokenizer.decode([next_token.item()])"
   ]
  }
 ],
 "metadata": {
  "language_info": {
   "name": "python"
  }
 },
 "nbformat": 4,
 "nbformat_minor": 2
}
