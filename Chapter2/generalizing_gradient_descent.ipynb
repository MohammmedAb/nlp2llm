{
 "cells": [
  {
   "cell_type": "markdown",
   "metadata": {},
   "source": [
    "# Gradient descent with multiple inputes"
   ]
  },
  {
   "cell_type": "code",
   "execution_count": 4,
   "metadata": {},
   "outputs": [],
   "source": [
    "def w_sum(input, weights):\n",
    "    assert(len(input) == len(weights))\n",
    "\n",
    "    output=0\n",
    "    for i in range(len(input)):\n",
    "        \n",
    "        output += input[i] * weights[i]\n",
    "    return output\n",
    "\n",
    "\n",
    "weights = [0.1, 0.2, -.1]\n",
    "def neural_network(inputs, weights):\n",
    "\n",
    "    pred = w_sum(input, weights)\n",
    "\n",
    "    return pred"
   ]
  },
  {
   "cell_type": "code",
   "execution_count": 2,
   "metadata": {},
   "outputs": [],
   "source": [
    "toes = [8.5 , 9.5, 9.9, 9.0] \n",
    "wlrec = [0.65, 0.8, 0.8, 0.9] \n",
    "nfans = [1.2 , 1.3, 0.5, 1.0]\n",
    "win_or_lose_binary = [1,1,0,1]"
   ]
  },
  {
   "cell_type": "code",
   "execution_count": 4,
   "metadata": {},
   "outputs": [],
   "source": [
    "def ele_mul(number, vector):\n",
    "    output = [0, 0, 0]\n",
    "    assert(len(vector) == len(output))\n",
    "\n",
    "    for i  in range(len(vector)):\n",
    "        output[i] = number * vector[i]\n",
    "\n",
    "    return output"
   ]
  },
  {
   "cell_type": "markdown",
   "metadata": {},
   "source": [
    "**Learn Phase** "
   ]
  },
  {
   "cell_type": "code",
   "execution_count": 10,
   "metadata": {},
   "outputs": [],
   "source": [
    "import matplotlib.pyplot as plt"
   ]
  },
  {
   "cell_type": "code",
   "execution_count": 16,
   "metadata": {},
   "outputs": [
    {
     "name": "stdout",
     "output_type": "stream",
     "text": [
      "Iteration: 0\n",
      "Prediction: 1.0000000000063884\n",
      "Error: 4.081223371265351e-23\n",
      "Delta: 6.388445328298076e-12\n",
      "weights: [0.11605667060285783, 0.20122786304610094, -0.09773317591489068]\n",
      "Weights Deltas: \n",
      "[5.4301785290533644e-11, 4.1524894633937496e-12, 7.66613439395769e-12]\n",
      "\n",
      "Iteration: 1\n",
      "Prediction: 1.0000000000016538\n",
      "Error: 2.7350154682810777e-24\n",
      "Delta: 1.6537882174816332e-12\n",
      "weights: [0.11605667060231481, 0.2012278630460594, -0.09773317591496734]\n",
      "Weights Deltas: \n",
      "[1.4057199848593882e-11, 1.0749623413630615e-12, 1.98454586097796e-12]\n",
      "\n",
      "Iteration: 2\n",
      "Prediction: 1.0000000000004279\n",
      "Error: 1.8308125477021466e-25\n",
      "Delta: 4.2787995369053533e-13\n",
      "weights: [0.11605667060217424, 0.20122786304604867, -0.09773317591498719]\n",
      "Weights Deltas: \n",
      "[3.6369796063695503e-12, 2.7812196989884795e-13, 5.134559444286424e-13]\n",
      "\n"
     ]
    }
   ],
   "source": [
    "true = win_or_lose_binary[0]\n",
    "input = [toes[0], wlrec[0], nfans[0]]\n",
    "alpha = 0.01\n",
    "\n",
    "\n",
    "for i in range(3):\n",
    "    pred = neural_network(input, weights)\n",
    "    error = (pred - true) ** 2\n",
    "    delta = pred - true # A measure of how much higher or lower you want a node’s value to be, to predict perfectly given the current training example.\n",
    "\n",
    "    weight_deltas = ele_mul(delta, input) # Calculating the derivative\n",
    "\n",
    "\n",
    "    print(\"Iteration: \" + str(i))\n",
    "    print(\"Prediction: \"+ str(pred))\n",
    "    print(\"Error: \" + str(error))\n",
    "    print(\"Delta: \" + str(delta))\n",
    "    print(\"weights: \"+ str(weights))\n",
    "    print(\"Weights Deltas: \\n\" + str(weight_deltas))\n",
    "    print(\n",
    "\n",
    "    )\n",
    "    \n",
    "    # for j in range(len(weights)):\n",
    "    #     plt.figure(figsize=(6, 4))\n",
    "    #     plt.plot(weights[j], error, 'bo')\n",
    "    #     plt.xlabel('Weight')\n",
    "    #     plt.ylabel('Error')\n",
    "    #     plt.title(f'Iteration {i+1}: Weight {j+1} vs. Error')\n",
    "    #     plt.grid(True)\n",
    "    #     plt.show()\n",
    "\n",
    "    #updating the weights\n",
    "    for i in range(len(weights)):\n",
    "        weights[i] -= weight_deltas[i] * alpha\n",
    "\n",
    "\n"
   ]
  },
  {
   "cell_type": "markdown",
   "metadata": {},
   "source": [
    "# Freezing one weight\n",
    "\n",
    "We are going to train again, except weight the first weight is frozen. "
   ]
  },
  {
   "cell_type": "code",
   "execution_count": 17,
   "metadata": {},
   "outputs": [
    {
     "name": "stdout",
     "output_type": "stream",
     "text": [
      "Iteration: 0\n",
      "Prediction: 1.000000000000111\n",
      "Error: 1.232595164407831e-26\n",
      "Delta: 1.1102230246251565e-13\n",
      "weights: [0.11605667060213787, 0.2012278630460459, -0.09773317591499232]\n",
      "Weights Deltas: \n",
      "[0, 7.216449660063518e-14, 1.3322676295501878e-13]\n",
      "\n",
      "Iteration: 1\n",
      "Prediction: 1.0000000000001088\n",
      "Error: 1.1837843958972808e-26\n",
      "Delta: 1.0880185641326534e-13\n",
      "weights: [0.11605667060213787, 0.20122786304604517, -0.09773317591499366]\n",
      "Weights Deltas: \n",
      "[0, 7.072120666862247e-14, 1.305622276959184e-13]\n",
      "\n",
      "Iteration: 2\n",
      "Prediction: 1.0000000000001068\n",
      "Error: 1.1406977993302407e-26\n",
      "Delta: 1.0680345496894006e-13\n",
      "weights: [0.11605667060213787, 0.20122786304604448, -0.09773317591499496]\n",
      "Weights Deltas: \n",
      "[0, 6.942224572981105e-14, 1.2816414596272806e-13]\n",
      "\n"
     ]
    }
   ],
   "source": [
    "true = win_or_lose_binary[0]\n",
    "input = [toes[0], wlrec[0], nfans[0]]\n",
    "alpha = 0.01\n",
    "\n",
    "\n",
    "for i in range(3):\n",
    "    pred = neural_network(input, weights)\n",
    "    error = (pred - true) ** 2\n",
    "    delta = pred - true # A measure of how much higher or lower you want a node’s value to be, to predict perfectly given the current training example.\n",
    "\n",
    "    weight_deltas = ele_mul(delta, input) # Calculating the derivative\n",
    "    weight_deltas[0] = 0\n",
    "\n",
    "    print(\"Iteration: \" + str(i))\n",
    "    print(\"Prediction: \"+ str(pred))\n",
    "    print(\"Error: \" + str(error))\n",
    "    print(\"Delta: \" + str(delta))\n",
    "    print(\"weights: \"+ str(weights))\n",
    "    print(\"Weights Deltas: \\n\" + str(weight_deltas))\n",
    "    print(\n",
    "\n",
    "    )\n",
    "    \n",
    "    # for j in range(len(weights)):\n",
    "    #     plt.figure(figsize=(6, 4))\n",
    "    #     plt.plot(weights[j], error, 'bo')\n",
    "    #     plt.xlabel('Weight')\n",
    "    #     plt.ylabel('Error')\n",
    "    #     plt.title(f'Iteration {i+1}: Weight {j+1} vs. Error')\n",
    "    #     plt.grid(True)\n",
    "    #     plt.show()\n",
    "\n",
    "    #updating the weights\n",
    "    for i in range(len(weights)):\n",
    "        weights[i] -= weight_deltas[i] * alpha\n",
    "\n",
    "\n"
   ]
  },
  {
   "cell_type": "markdown",
   "metadata": {},
   "source": [
    "# Gradient Descent with Multiple Outputs"
   ]
  },
  {
   "cell_type": "code",
   "execution_count": 1,
   "metadata": {},
   "outputs": [],
   "source": [
    "def neural_network(input, weights):\n",
    "\n",
    "    pred = ele_mul(input, weights)\n",
    "\n",
    "    return pred"
   ]
  },
  {
   "cell_type": "code",
   "execution_count": 2,
   "metadata": {},
   "outputs": [],
   "source": [
    "wlrec = [0.65, 1.0, 1.0, 0.9] \n",
    "hurt = [0.1, 0.0, 0.0, 0.1] \n",
    "win = [ 1, 1, 0, 1] \n",
    "sad = [0.1, 0.0, 0.1, 0.2] "
   ]
  },
  {
   "cell_type": "code",
   "execution_count": 5,
   "metadata": {},
   "outputs": [],
   "source": [
    "weights = [0.3, 0.2, 0.9]\n",
    "input = wlrec[0]\n",
    "true = [hurt[0], win[0], sad[0]]\n",
    "\n",
    "pred = neural_network(input, weights)"
   ]
  },
  {
   "cell_type": "code",
   "execution_count": 6,
   "metadata": {},
   "outputs": [
    {
     "name": "stdout",
     "output_type": "stream",
     "text": [
      "Weights: [0.28049999999999997, 0.187, 0.8415]\n",
      "Weight Delta[0.195, 0.13, 0.5850000000000001]\n"
     ]
    }
   ],
   "source": [
    "error = [0,0,0]\n",
    "delta = [0,0,0]\n",
    "\n",
    "for i in range(len(true)):\n",
    "\n",
    "    error[i] = (pred[i] - true[i]) ** 2\n",
    "    delta[i] = pred[i] - true[i]\n",
    "\n",
    "weight_deltas = ele_mul(input, weights)\n",
    "alpha = 0.1\n",
    "\n",
    "for i in range(len(weights)):\n",
    "    weights[i] -= (weight_deltas[i] * alpha)\n",
    "\n",
    "print('Weights: '+ str(weights))\n",
    "print(\"Weight Delta\" + str(weight_deltas))"
   ]
  },
  {
   "cell_type": "markdown",
   "metadata": {},
   "source": [
    "# Gradient descent with multiple inputs and outputs"
   ]
  },
  {
   "cell_type": "code",
   "execution_count": 37,
   "metadata": {},
   "outputs": [],
   "source": [
    "def w_sum(input, weights):\n",
    "    assert(len(input) == len(weights))\n",
    "    output=0\n",
    "    for i in range(len(input)):\n",
    "        output += input[i] * weights[i]\n",
    "    return output\n",
    "\n",
    "def vect_mat_mul(vect, matrix):\n",
    "    assert(len(vect)) == len((matrix))\n",
    "    output = [0,0,0]\n",
    "\n",
    "    for i in range(len(vect)):\n",
    "        output[i] = w_sum(vect, matrix[i])\n",
    "    return output\n",
    "\n",
    "weights = [ [0.1, 0.1, -0.3],\n",
    "            [0.1, 0.2, 0.0], \n",
    "            [0.0, 1.3, 0.1] ]\n",
    "\n",
    "def neural_network(input, weights):\n",
    "\n",
    "    pred = vect_mat_mul(input, weights)\n",
    "\n",
    "    return pred"
   ]
  },
  {
   "cell_type": "code",
   "execution_count": 38,
   "metadata": {},
   "outputs": [],
   "source": [
    "toes = [8.5, 9.5, 9.9, 9.0] \n",
    "wlrec = [0.65,0.8, 0.8, 0.9] \n",
    "nfans = [1.2, 1.3, 0.5, 1.0]\n",
    "\n",
    "hurt = [0.1, 0.0, 0.0, 0.1] \n",
    "win = [ 1, 1, 0, 1] \n",
    "sad = [0.1, 0.0, 0.1, 0.2] \n",
    "\n",
    "alpha = 0.01\n",
    "\n",
    "input = [toes[0],wlrec[0],nfans[0]] \n",
    "true = [hurt[0], win[0], sad[0]]"
   ]
  },
  {
   "cell_type": "code",
   "execution_count": 39,
   "metadata": {},
   "outputs": [],
   "source": [
    "#Forward Propagation\n",
    "pred = neural_network(input, weights)\n",
    "\n",
    "# Loss Function and Error Calculation\n",
    "error = [0,0,0]\n",
    "delta = [0,0,0]\n",
    "for i in range(len(true)):\n",
    "\n",
    "    error[i] = (pred[i] - true[i]) ** 2\n",
    "    delta[i] = pred[i] - true[i]"
   ]
  },
  {
   "cell_type": "code",
   "execution_count": 43,
   "metadata": {},
   "outputs": [],
   "source": [
    "# Matrix Operations\n",
    "def zeros_matrix(a, b):\n",
    "    return [[0 for _ in range(b)] for _ in range(a)]\n",
    "\n",
    "    #outer products uv^T\n",
    "def outer_prod(vec_a, vec_b):\n",
    "    out = zeros_matrix(len(vec_a), len(vec_b))\n",
    "\n",
    "    for i in range(len(vec_a)):\n",
    "        for j in range(len(vec_b)):\n",
    "            out[i][j] = vec_a[i] * vec_b[j]\n",
    "\n",
    "    return out"
   ]
  },
  {
   "cell_type": "code",
   "execution_count": 45,
   "metadata": {},
   "outputs": [],
   "source": [
    "# Backpropagation, calculating the Calculating each weight_delta and putting it on each weight\n",
    "weight_deltas = outer_prod(input, delta)"
   ]
  },
  {
   "cell_type": "markdown",
   "metadata": {},
   "source": [
    "**weight delta:** is the gradients of the error with respect to each weight.  \n",
    "We calculate it using outer product\n"
   ]
  },
  {
   "cell_type": "code",
   "execution_count": 44,
   "metadata": {},
   "outputs": [
    {
     "name": "stdout",
     "output_type": "stream",
     "text": [
      "Weights: [[0.061325, 0.1017, -0.373525], [0.0970425, 0.20013, -0.005622500000000002], [-0.0054600000000000004, 1.30024, 0.08962]]\n",
      "Weight Delta[[3.8675000000000006, -0.1699999999999992, 7.352500000000001], [0.29575000000000007, -0.01299999999999994, 0.5622500000000001], [0.546, -0.023999999999999886, 1.038]]\n"
     ]
    }
   ],
   "source": [
    "# Iterative Optimization Weight Update\n",
    "\n",
    "for i in range(len(weights)):\n",
    "    for j in range(len(weights[0])):\n",
    "        weights[i][j] -= alpha * weight_deltas[i][j]\n",
    "\n",
    "print('Weights: '+ str(weights))\n",
    "print(\"Weight Delta\" + str(weight_deltas))"
   ]
  }
 ],
 "metadata": {
  "kernelspec": {
   "display_name": "nlp2llm",
   "language": "python",
   "name": "python3"
  },
  "language_info": {
   "codemirror_mode": {
    "name": "ipython",
    "version": 3
   },
   "file_extension": ".py",
   "mimetype": "text/x-python",
   "name": "python",
   "nbconvert_exporter": "python",
   "pygments_lexer": "ipython3",
   "version": "3.9.19"
  }
 },
 "nbformat": 4,
 "nbformat_minor": 2
}
