{
 "cells": [
  {
   "cell_type": "markdown",
   "metadata": {},
   "source": [
    "# Chapter 3 - Intro to neural prediction | Forward propagation "
   ]
  },
  {
   "cell_type": "markdown",
   "metadata": {},
   "source": [
    "## First NN, \n",
    "- 1 input \n",
    "- 1 output\n",
    "- 1 weight"
   ]
  },
  {
   "cell_type": "code",
   "execution_count": 2,
   "metadata": {},
   "outputs": [],
   "source": [
    "weight = 0.1\n",
    "def neural_network(input, weight):\n",
    "    prediction = input * weight\n",
    "    return prediction"
   ]
  },
  {
   "cell_type": "code",
   "execution_count": 3,
   "metadata": {},
   "outputs": [
    {
     "name": "stdout",
     "output_type": "stream",
     "text": [
      "0.8500000000000001\n"
     ]
    }
   ],
   "source": [
    "number_of_toes = [8.5, 9.5, 10, 9]\n",
    "input= number_of_toes[0]\n",
    "prediction = neural_network(input, weight)\n",
    "print(prediction)"
   ]
  },
  {
   "cell_type": "markdown",
   "metadata": {},
   "source": [
    "## Making a prediction with multiple inputs"
   ]
  },
  {
   "cell_type": "code",
   "execution_count": 4,
   "metadata": {},
   "outputs": [],
   "source": [
    "# Preforming a weighted sum of the inputs\n",
    "def w_sum(a, b):\n",
    "    # a is the input, b is the weight\n",
    "    assert(len(a) == len(b))\n",
    "    output = 0\n",
    "    for i in range(len(a)):\n",
    "        output += (a[i] * b[i])\n",
    "    \n",
    "    return output\n",
    "\n",
    "weights = [0.1, 0.2, 0]\n",
    "def neural_network(input, weights):\n",
    "    pred = w_sum(input, weights)\n",
    "    return pred"
   ]
  },
  {
   "cell_type": "code",
   "execution_count": null,
   "metadata": {},
   "outputs": [],
   "source": [
    "toes = [8.5, 9.5, 9.9, 9.0]\n",
    "wlrec = [0.65, 0.8, 0.8, 0.9]\n",
    "nfans = [1.2, 1.3, 0.5, 1.0]\n",
    "\n",
    "input = [toes[0], wlrec[0], nfans[0]]\n",
    "pred = neural_network(input, weights)"
   ]
  },
  {
   "cell_type": "code",
   "execution_count": 16,
   "metadata": {},
   "outputs": [],
   "source": [
    "def elementwise_multiplication(number, vector):\n",
    "    res_vec = [0, 0, 0]\n",
    "\n",
    "    assert(len(res_vec) == len(vector))\n",
    "\n",
    "    for i in range(len(vector)):\n",
    "        res_vec[i] = number *vector[i]\n",
    "    \n",
    "    return res_vec\n",
    "\n",
    "def elementwise_addition(vec_a, vec_b):\n",
    "    assert(len(vec_a) == len(vec_b))\n",
    "    res_vec = []\n",
    "    \n",
    "    for i in range(len(vec_a)):\n",
    "        res_vec.append(vec_a[i] + vec_b[i])\n",
    "\n",
    "    return res_vec"
   ]
  },
  {
   "cell_type": "code",
   "execution_count": 8,
   "metadata": {},
   "outputs": [
    {
     "name": "stdout",
     "output_type": "stream",
     "text": [
      "[4, 10, 18]\n",
      "[5, 7, 9]\n"
     ]
    }
   ],
   "source": [
    "vec_a = [1, 2, 3]\n",
    "vec_b = [4, 5, 6]\n",
    "\n",
    "print(elementwise_multiplication(vec_a, vec_b))\n",
    "print(elementwise_addition(vec_a, vec_b))"
   ]
  },
  {
   "cell_type": "markdown",
   "metadata": {},
   "source": [
    "## Using numpy"
   ]
  },
  {
   "cell_type": "code",
   "execution_count": 1,
   "metadata": {},
   "outputs": [],
   "source": [
    "import numpy as np"
   ]
  },
  {
   "cell_type": "code",
   "execution_count": 9,
   "metadata": {},
   "outputs": [],
   "source": [
    "\n",
    "weights = np.array([0.1,0.2,0])\n",
    "\n",
    "def neural_network(input:np.ndarray , weights: np.ndarray):\n",
    "    pred = input.dot(weights)\n",
    "\n",
    "    return pred\n"
   ]
  },
  {
   "cell_type": "code",
   "execution_count": 11,
   "metadata": {},
   "outputs": [
    {
     "name": "stdout",
     "output_type": "stream",
     "text": [
      "0.9800000000000001\n"
     ]
    }
   ],
   "source": [
    "toes = np.array([8.5, 9.5, 9.9, 9.0])\n",
    "wlrec = np.array([0.65, 0.8, 0.8, 0.9])\n",
    "nfans = np.array([1.2, 1.3, 0.5, 1.0])\n",
    "\n",
    "input = np.array([toes[0], wlrec[0], nfans[0]])\n",
    "pred = neural_network(input, weights)\n",
    "print(pred)"
   ]
  },
  {
   "cell_type": "markdown",
   "metadata": {},
   "source": [
    "## Making a prediction with multiple outputs"
   ]
  },
  {
   "cell_type": "code",
   "execution_count": 12,
   "metadata": {},
   "outputs": [],
   "source": [
    "weights = [0.3, 0.2, 0.9]\n",
    "\n",
    "def neural_network(input, weights):\n",
    "    pred = elementwise_multiplication(input, weights) # Multiply the input with each weight\n",
    "    return pred"
   ]
  },
  {
   "cell_type": "code",
   "execution_count": 17,
   "metadata": {},
   "outputs": [
    {
     "name": "stdout",
     "output_type": "stream",
     "text": [
      "[0.195, 0.13, 0.5850000000000001]\n"
     ]
    }
   ],
   "source": [
    "wlrec = [0.65, 0.8, 0.8, 0.9]\n",
    "input = wlrec[0]\n",
    "\n",
    "pred = neural_network(input, weights)\n",
    "print(pred)"
   ]
  },
  {
   "cell_type": "markdown",
   "metadata": {},
   "source": [
    "- 0.195 hurt prediction\n",
    "- 0.13 win prediction\n",
    "- 0.58 sad prediction"
   ]
  },
  {
   "cell_type": "markdown",
   "metadata": {},
   "source": [
    "## Prediction with multiple inputs and outputs"
   ]
  },
  {
   "cell_type": "code",
   "execution_count": 6,
   "metadata": {},
   "outputs": [],
   "source": [
    "           # In1, In2, In3 \n",
    "weights = [[0.1, 0.1, -0.3], # first weights for all features \n",
    "           [0.1 , 0.2, 0.0], # 2nd for all features\n",
    "           [0.0, 1.3, 0.1]] # 3d for all features\n",
    "\n",
    "def w_sum(input, weights):\n",
    "    assert(len(input) == len(weights))\n",
    "    output = 0\n",
    "\n",
    "    for i in range(len(input)):\n",
    "        output+= (input[i]*weights[i]) \n",
    "    return output\n",
    "\n",
    "def vec_mat_mul(vector, matrix):\n",
    "    \"\"\"\n",
    "    Performs matrix multiplication between a vector and a matrix\n",
    "    Take the input and do a w_sum for each weigh dimension\n",
    "    It performs three independent weighted sums of the input to make three predictions.\n",
    "    \"\"\"\n",
    "     \n",
    "    assert(len(vector) == len(matrix))\n",
    "\n",
    "    output = [0,0,0]\n",
    "\n",
    "    for i in range(len(vector)):\n",
    "        output[i] = w_sum(vector, matrix[i])\n",
    "    \n",
    "    return output\n",
    "    \n",
    "\n",
    "def neural_network(input, weights):\n",
    "\n",
    "    pred = vec_mat_mul(input, weights)\n",
    "\n",
    "    return pred"
   ]
  },
  {
   "cell_type": "code",
   "execution_count": 2,
   "metadata": {},
   "outputs": [],
   "source": [
    "toes = [8.5, 9.5, 9.9, 9.0]\n",
    "wlrec = [0.65, 0.8, 0.8, 0.9]\n",
    "nfans = [1.2, 1.3, 0.5, 1.0]"
   ]
  },
  {
   "cell_type": "code",
   "execution_count": 7,
   "metadata": {},
   "outputs": [
    {
     "name": "stdout",
     "output_type": "stream",
     "text": [
      "[0.555, 0.9800000000000001, 0.9650000000000001]\n"
     ]
    }
   ],
   "source": [
    "input = [toes[0], wlrec[0], nfans[0]]\n",
    "\n",
    "pred = neural_network(input, weights)\n",
    "print(pred)"
   ]
  },
  {
   "cell_type": "markdown",
   "metadata": {},
   "source": [
    "## Predicting on predictions"
   ]
  },
  {
   "cell_type": "code",
   "execution_count": 8,
   "metadata": {},
   "outputs": [],
   "source": [
    "ih_wgt = [[0.1, 0.2, -0.1], \n",
    "           [-0.1 , 0.1, 0.9], \n",
    "           [0.1, 0.4, 0.1]]\n",
    "hp_wgt = [[0.3, 1.1, -0.3], \n",
    "           [0.1 , 0.2, 0.0], \n",
    "           [0.1, 1.3, 0.1]]\n",
    "\n",
    "weights =  [ih_wgt, hp_wgt]"
   ]
  },
  {
   "cell_type": "code",
   "execution_count": 9,
   "metadata": {},
   "outputs": [],
   "source": [
    "def neural_network(input, weights):\n",
    "\n",
    "    hid = vec_mat_mul(input, weights[0])\n",
    "    pred = vec_mat_mul(hid, weights[1])\n",
    "    return pred"
   ]
  },
  {
   "cell_type": "code",
   "execution_count": 10,
   "metadata": {},
   "outputs": [
    {
     "name": "stdout",
     "output_type": "stream",
     "text": [
      "[0.21350000000000002, 0.14500000000000002, 0.5924999999999999]\n"
     ]
    }
   ],
   "source": [
    "input = [toes[0], wlrec[0], nfans[0]]\n",
    "pred = neural_network(input, weights)\n",
    "\n",
    "print(pred)"
   ]
  },
  {
   "cell_type": "markdown",
   "metadata": {},
   "source": [
    "### Numpy version"
   ]
  },
  {
   "cell_type": "code",
   "execution_count": 13,
   "metadata": {},
   "outputs": [],
   "source": [
    "ih_wgt = np.array([\n",
    "            [0.1, 0.2, -0.1], \n",
    "            [-0.1 , 0.1, 0.9], \n",
    "            [0.1, 0.4, 0.1]])\n",
    "\n",
    "hp_wgt = np.array(\n",
    "            [[0.3, 1.1, -0.3], \n",
    "            [0.1 , 0.2, 0.0], \n",
    "            [0.1, 1.3, 0.1]])\n",
    "\n",
    "weights = [ih_wgt, hp_wgt]"
   ]
  },
  {
   "cell_type": "code",
   "execution_count": 14,
   "metadata": {},
   "outputs": [],
   "source": [
    "def neural_network(input, weights):\n",
    "\n",
    "    hid = input.dot(weights[0])\n",
    "    pred = hid.dot(weights[1])\n",
    "    return pred"
   ]
  },
  {
   "cell_type": "code",
   "execution_count": 16,
   "metadata": {},
   "outputs": [
    {
     "name": "stdout",
     "output_type": "stream",
     "text": [
      "[ 0.4815  1.256  -0.286 ]\n"
     ]
    }
   ],
   "source": [
    "toes = np.array([8.5, 9.5, 9.9, 9.0])\n",
    "wlrec = np.array([0.65, 0.8, 0.8, 0.9])\n",
    "nfans = np.array([1.2, 1.3, 0.5, 1.0])\n",
    "\n",
    "input = np.array([toes[0], wlrec[0], nfans[0]])\n",
    "\n",
    "pred = neural_network(input, weights)\n",
    "print(pred)"
   ]
  }
 ],
 "metadata": {
  "kernelspec": {
   "display_name": "nlp2llm",
   "language": "python",
   "name": "python3"
  },
  "language_info": {
   "codemirror_mode": {
    "name": "ipython",
    "version": 3
   },
   "file_extension": ".py",
   "mimetype": "text/x-python",
   "name": "python",
   "nbconvert_exporter": "python",
   "pygments_lexer": "ipython3",
   "version": "3.9.19"
  }
 },
 "nbformat": 4,
 "nbformat_minor": 2
}
